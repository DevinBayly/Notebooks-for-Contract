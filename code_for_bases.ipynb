{
 "cells": [
  {
   "cell_type": "code",
   "execution_count": null,
   "metadata": {
    "collapsed": true
   },
   "outputs": [],
   "source": [
    "# %load RREF_real.py\n",
    "from __future__ import division\n",
    "import random as dom\n",
    "from RREF_real import *\n",
    "from sympy import *\n",
    "x, y, z, t = symbols('x y z t')\n",
    "k, m, n = symbols('k m n', integer=True)\n",
    "f, g, h = symbols('f g h', cls=Function)\n",
    "init_printing()\n",
    "import ipdb\n"
   ]
  },
  {
   "cell_type": "code",
   "execution_count": null,
   "metadata": {
    "collapsed": true
   },
   "outputs": [],
   "source": [
    "def parameterize(mtx):\n",
    "    ret_list=[]\n",
    "    for i in range(mtx.shape[0]):\n",
    "        if mtx[i,i] != 1: #i here is just checking for presence of pivot positions\n",
    "            if i != mtx.shape[0]:\n",
    "                ret_list.append(-1*mtx[:,i])\n",
    "            else:\n",
    "                ret_list.append(mtx[:,i])\n",
    "                \n",
    "    return ret_list\n"
   ]
  }
 ],
 "metadata": {
  "kernelspec": {
   "display_name": "Python 3",
   "language": "python",
   "name": "python3"
  },
  "language_info": {
   "codemirror_mode": {
    "name": "ipython",
    "version": 3
   },
   "file_extension": ".py",
   "mimetype": "text/x-python",
   "name": "python",
   "nbconvert_exporter": "python",
   "pygments_lexer": "ipython3",
   "version": "3.5.1"
  }
 },
 "nbformat": 4,
 "nbformat_minor": 0
}
