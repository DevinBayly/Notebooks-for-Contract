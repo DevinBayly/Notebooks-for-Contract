{
 "cells": [
  {
   "cell_type": "code",
   "execution_count": 1,
   "metadata": {
    "collapsed": false
   },
   "outputs": [
    {
     "ename": "MultipleInstanceError",
     "evalue": "Multiple incompatible subclass instances of TerminalIPythonApp are being created.",
     "output_type": "error",
     "traceback": [
      "\u001b[1;31m---------------------------------------------------------------------------\u001b[0m",
      "\u001b[1;31mMultipleInstanceError\u001b[0m                     Traceback (most recent call last)",
      "\u001b[1;32m<ipython-input-1-3e75ba4235ad>\u001b[0m in \u001b[0;36m<module>\u001b[1;34m()\u001b[0m\n\u001b[0;32m      7\u001b[0m \u001b[0mf\u001b[0m\u001b[1;33m,\u001b[0m \u001b[0mg\u001b[0m\u001b[1;33m,\u001b[0m \u001b[0mh\u001b[0m \u001b[1;33m=\u001b[0m \u001b[0msymbols\u001b[0m\u001b[1;33m(\u001b[0m\u001b[1;34m'f g h'\u001b[0m\u001b[1;33m,\u001b[0m \u001b[0mcls\u001b[0m\u001b[1;33m=\u001b[0m\u001b[0mFunction\u001b[0m\u001b[1;33m)\u001b[0m\u001b[1;33m\u001b[0m\u001b[0m\n\u001b[0;32m      8\u001b[0m \u001b[0minit_printing\u001b[0m\u001b[1;33m(\u001b[0m\u001b[0muse_latex\u001b[0m\u001b[1;33m=\u001b[0m\u001b[0mfalse\u001b[0m\u001b[1;33m)\u001b[0m\u001b[1;33m\u001b[0m\u001b[0m\n\u001b[1;32m----> 9\u001b[1;33m \u001b[1;32mimport\u001b[0m \u001b[0mipdb\u001b[0m\u001b[1;33m\u001b[0m\u001b[0m\n\u001b[0m",
      "\u001b[1;32m/home/dev/miniconda3/lib/python3.5/site-packages/ipdb/__init__.py\u001b[0m in \u001b[0;36m<module>\u001b[1;34m()\u001b[0m\n\u001b[0;32m      5\u001b[0m \u001b[1;31m# https://opensource.org/licenses/BSD-3-Clause\u001b[0m\u001b[1;33m\u001b[0m\u001b[1;33m\u001b[0m\u001b[0m\n\u001b[0;32m      6\u001b[0m \u001b[1;33m\u001b[0m\u001b[0m\n\u001b[1;32m----> 7\u001b[1;33m \u001b[1;32mfrom\u001b[0m \u001b[0mipdb\u001b[0m\u001b[1;33m.\u001b[0m\u001b[0m__main__\u001b[0m \u001b[1;32mimport\u001b[0m \u001b[0mset_trace\u001b[0m\u001b[1;33m,\u001b[0m \u001b[0mpost_mortem\u001b[0m\u001b[1;33m,\u001b[0m \u001b[0mpm\u001b[0m\u001b[1;33m,\u001b[0m \u001b[0mrun\u001b[0m\u001b[1;33m,\u001b[0m \u001b[0mruncall\u001b[0m\u001b[1;33m,\u001b[0m \u001b[0mruneval\u001b[0m\u001b[1;33m,\u001b[0m \u001b[0mlaunch_ipdb_on_exception\u001b[0m\u001b[1;33m\u001b[0m\u001b[0m\n\u001b[0m\u001b[0;32m      8\u001b[0m \u001b[1;33m\u001b[0m\u001b[0m\n\u001b[0;32m      9\u001b[0m \u001b[0mpm\u001b[0m                       \u001b[1;31m# please pyflakes\u001b[0m\u001b[1;33m\u001b[0m\u001b[0m\n",
      "\u001b[1;32m/home/dev/miniconda3/lib/python3.5/site-packages/ipdb/__main__.py\u001b[0m in \u001b[0;36m<module>\u001b[1;34m()\u001b[0m\n\u001b[0;32m     64\u001b[0m         \u001b[1;31m# the instance method will create a new one without loading the config.\u001b[0m\u001b[1;33m\u001b[0m\u001b[1;33m\u001b[0m\u001b[0m\n\u001b[0;32m     65\u001b[0m         \u001b[1;31m# i.e: if we are in an embed instance we do not want to load the config.\u001b[0m\u001b[1;33m\u001b[0m\u001b[1;33m\u001b[0m\u001b[0m\n\u001b[1;32m---> 66\u001b[1;33m         \u001b[0mipapp\u001b[0m \u001b[1;33m=\u001b[0m \u001b[0mTerminalIPythonApp\u001b[0m\u001b[1;33m.\u001b[0m\u001b[0minstance\u001b[0m\u001b[1;33m(\u001b[0m\u001b[1;33m)\u001b[0m\u001b[1;33m\u001b[0m\u001b[0m\n\u001b[0m\u001b[0;32m     67\u001b[0m         \u001b[0mshell\u001b[0m \u001b[1;33m=\u001b[0m \u001b[0mget_ipython\u001b[0m\u001b[1;33m(\u001b[0m\u001b[1;33m)\u001b[0m\u001b[1;33m\u001b[0m\u001b[0m\n\u001b[0;32m     68\u001b[0m         \u001b[0mdef_colors\u001b[0m \u001b[1;33m=\u001b[0m \u001b[0mshell\u001b[0m\u001b[1;33m.\u001b[0m\u001b[0mcolors\u001b[0m\u001b[1;33m\u001b[0m\u001b[0m\n",
      "\u001b[1;32m/home/dev/miniconda3/lib/python3.5/site-packages/traitlets/config/configurable.py\u001b[0m in \u001b[0;36minstance\u001b[1;34m(cls, *args, **kwargs)\u001b[0m\n\u001b[0;32m    414\u001b[0m             raise MultipleInstanceError(\n\u001b[0;32m    415\u001b[0m                 \u001b[1;34m'Multiple incompatible subclass instances of '\u001b[0m\u001b[1;33m\u001b[0m\u001b[0m\n\u001b[1;32m--> 416\u001b[1;33m                 \u001b[1;34m'%s are being created.'\u001b[0m \u001b[1;33m%\u001b[0m \u001b[0mcls\u001b[0m\u001b[1;33m.\u001b[0m\u001b[0m__name__\u001b[0m\u001b[1;33m\u001b[0m\u001b[0m\n\u001b[0m\u001b[0;32m    417\u001b[0m             )\n\u001b[0;32m    418\u001b[0m \u001b[1;33m\u001b[0m\u001b[0m\n",
      "\u001b[1;31mMultipleInstanceError\u001b[0m: Multiple incompatible subclass instances of TerminalIPythonApp are being created."
     ]
    }
   ],
   "source": [
    "# %load './RREF_real.py'\n",
    "from __future__ import division\n",
    "import random\n",
    "from sympy import *\n",
    "x, y, z, t = symbols('x y z t')\n",
    "k, m, n = symbols('k m n', integer=True)\n",
    "f, g, h = symbols('f g h', cls=Function)\n",
    "init_printing(use_latex=false)"
   ]
  },
  {
   "cell_type": "code",
   "execution_count": 6,
   "metadata": {
    "collapsed": false
   },
   "outputs": [
    {
     "data": {
      "text/plain": [
       "⎡0  9  3⎤\n",
       "⎢       ⎥\n",
       "⎢6  9  3⎥\n",
       "⎢       ⎥\n",
       "⎣5  2  5⎦"
      ]
     },
     "execution_count": 6,
     "metadata": {},
     "output_type": "execute_result"
    }
   ],
   "source": [
    "trbl_mkr = Matrix(3,3,[random.randrange(1,10) for i in range(9)])\n",
    "trbl_mkr[0,0] = 0\n",
    "trbl_mkr"
   ]
  },
  {
   "cell_type": "code",
   "execution_count": 17,
   "metadata": {
    "collapsed": false
   },
   "outputs": [
    {
     "data": {
      "text/plain": [
       "[Matrix([\n",
       " [1, 0, 0],\n",
       " [0, 1, 0],\n",
       " [0, 0, 1]]), False]"
      ]
     },
     "execution_count": 17,
     "metadata": {},
     "output_type": "execute_result"
    }
   ],
   "source": [
    "shortEF(trbl_mkr)\n",
    "row_op_storage"
   ]
  },
  {
   "cell_type": "code",
   "execution_count": 5,
   "metadata": {
    "collapsed": false
   },
   "outputs": [
    {
     "data": {
      "text/plain": [
       "⎡⎡1  0  0⎤, ⎡1  0  0⎤, ⎡1  0  0⎤⎤\n",
       "⎢⎢       ⎥  ⎢       ⎥  ⎢       ⎥⎥\n",
       "⎢⎢0  1  0⎥  ⎢0  1  0⎥  ⎢0  1  0⎥⎥\n",
       "⎢⎢       ⎥  ⎢       ⎥  ⎢       ⎥⎥\n",
       "⎣⎣0  0  1⎦  ⎣0  0  1⎦  ⎣0  0  1⎦⎦"
      ]
     },
     "execution_count": 5,
     "metadata": {},
     "output_type": "execute_result"
    }
   ],
   "source": [
    "shortEF()\n",
    "row_op_storage"
   ]
  },
  {
   "cell_type": "code",
   "execution_count": 34,
   "metadata": {
    "collapsed": false
   },
   "outputs": [
    {
     "data": {
      "text/plain": [
       "[1, 0, 0]"
      ]
     },
     "execution_count": 34,
     "metadata": {},
     "output_type": "execute_result"
    }
   ],
   "source": [
    "list(row_op_storage[-1][:,0])"
   ]
  },
  {
   "cell_type": "code",
   "execution_count": 3,
   "metadata": {
    "collapsed": false
   },
   "outputs": [],
   "source": [
    "#import ipdb\n",
    "row_op_storage = [eye(3)]\n",
    "def rolling_rep(mtx,row_starting):\n",
    "    global row_op_storage\n",
    "    rep_row = mtx[row_starting,:]\n",
    "    ret_mat = mtx.copy()\n",
    "    ret_mat.row_del(row_starting)\n",
    "    return ret_mat.row_insert(ret_mat.rows,rep_row)\n",
    "\n",
    "def target_swap(mtx,row,lst):\n",
    "    global row_op_storage\n",
    "    ret_mtx = mtx.copy()\n",
    "    rep_ind = find_nonzero_ind(lst,row)\n",
    "    stor_rep_row = row_op_storage[-1][rep_ind,:] # means take the most recent stored mtx and grab the row from it\n",
    "    tmp_mtx = row_op_storage[-1].copy()\n",
    "    tmp_mtx[rep_ind,:] = row_op_storage[-1][row,:]\n",
    "    tmp_mtx[row,:] = stor_rep_row\n",
    "    row_op_storage.append(tmp_mtx)\n",
    "    if rep_ind:\n",
    "        rep_row = ret_mtx[rep_ind,:]\n",
    "        ret_mtx[rep_ind,:] = ret_mtx[row,:]\n",
    "        ret_mtx[row,:] =rep_row\n",
    "        return ret_mtx\n",
    "    return False\n",
    "\n",
    "def find_nonzero_ind(lst,row,backwards=False):\n",
    "    global row_op_storage\n",
    "    if backwards:\n",
    "        lst_to_bool = [x == 0 if i < row else True for i,x in enumerate(lst)]\n",
    "    else:\n",
    "        lst_to_bool = [x == 0 if i > row else True for i,x in enumerate(lst)]\n",
    "    if False not in lst_to_bool:\n",
    "        return False\n",
    "    return lst_to_bool.index(False)\n",
    "\n",
    "def add_mult_row(mtx,piv_row,other):\n",
    "    global row_op_storage\n",
    "    return solve(piv_row*x+ other,x)[0]\n",
    "\n",
    "\n",
    "\n",
    "def shortEF(mtx):\n",
    "    global row_op_storage\n",
    "    pivots = []\n",
    "    cop = mtx.copy()\n",
    "    row,col = 0,0\n",
    "    try_cap = cop.rows + 30\n",
    "    while row < cop.rows and col < cop.cols: #took off -1 from cop.rows mighthave broken stuff\n",
    "        col_list = list(cop[:,col])\n",
    "        if try_cap < 0:\n",
    "            return (row,col)\n",
    "        if col_list.count(0) == cop.rows or col_list[row:].count(0) > cop.rows -1 -row:\n",
    "            col +=1\n",
    "            continue\n",
    "        if cop[row,col] == 0 :\n",
    "                #cop = rolling_rep(cop,row)\n",
    "                cop = target_swap(cop,row,col_list)\n",
    "                try_cap -=1\n",
    "                continue\n",
    "        if col_list[row:].count(0) == cop.rows -1 -row:\n",
    "            pivots.append((row,col))\n",
    "            col +=1\n",
    "            row +=1\n",
    "            continue\n",
    "        else:\n",
    "            \n",
    "            rep_ind = find_nonzero_ind(col_list,row) #makes sure to not include the potential pivot row in the search but keeps the indexing constant with mtx\n",
    "            multiple_factor = add_mult_row(cop,cop[row,col],cop[rep_ind,col])\n",
    "            cop[rep_ind,:] += cop[row,:]*multiple_factor\n",
    "    reduce_row(cop,pivots)\n",
    "    return cop\n",
    "\n",
    "def reduce_row(mtx,pivot_lst):\n",
    "    global row_op_storage\n",
    "    pivot_lst.reverse()\n",
    "    for row,col in pivot_lst:\n",
    "        mtx[row,:] = mtx[row,:]/mtx[row,col]\n",
    "        col_list = list(mtx[:,col])\n",
    "        while col_list.count(0) < mtx.rows -1:\n",
    "            rep_ind = find_nonzero_ind(col_list,row,True) #makes sure to not include the potential pivot row in the search but keeps the indexing constant with mtx\n",
    "            multiple_factor = add_mult_row(mtx,mtx[row,col],mtx[rep_ind,col])\n",
    "            mtx[rep_ind,:] += mtx[row,:]*multiple_factor\n",
    "            col_list = list(mtx[:,col])\n",
    "\n",
    "    \n",
    "## trbl seems to be about two zeros next to each other, fixed by using a check against \n",
    "\n",
    "\n",
    "##ipdb.runcall(shortEF,trbl_makr)"
   ]
  },
  {
   "cell_type": "code",
   "execution_count": null,
   "metadata": {
    "collapsed": false
   },
   "outputs": [],
   "source": [
    "def main ():\n",
    "    serious_trbl_mkrs = []\n",
    "    runs = 200\n",
    "    for i in range(runs):\n",
    "        trbl_mkr = Matrix(7,8,[random.randrange(1,100) if random.randrange(1,5) < 3 else 0 for num in range(56)])\n",
    "        if shortEF(trbl_mkr) != trbl_mkr.rref()[0]:\n",
    "            serious_trbl_mkrs.append(trbl_mkr)\n",
    "\n",
    "    pprint(serious_trbl_mkrs)\n",
    "    if len(serious_trbl_mkrs)/runs == 0.0:\n",
    "        print('no incorrect RREFS')\n",
    "\n",
    "if __name__ == \"__main__\":\n",
    "    main()\n",
    "    #ipdb.runcall(main)O\n",
    "    "
   ]
  }
 ],
 "metadata": {
  "kernelspec": {
   "display_name": "Python 3",
   "language": "python",
   "name": "python3"
  },
  "language_info": {
   "codemirror_mode": {
    "name": "ipython",
    "version": 3
   },
   "file_extension": ".py",
   "mimetype": "text/x-python",
   "name": "python",
   "nbconvert_exporter": "python",
   "pygments_lexer": "ipython3",
   "version": "3.5.1"
  }
 },
 "nbformat": 4,
 "nbformat_minor": 0
}
