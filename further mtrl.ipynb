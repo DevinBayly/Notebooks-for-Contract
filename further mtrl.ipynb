{
 "cells": [
  {
   "cell_type": "code",
   "execution_count": 1,
   "metadata": {
    "collapsed": false
   },
   "outputs": [
    {
     "name": "stdout",
     "output_type": "stream",
     "text": [
      "Using matplotlib backend: Qt4Agg\n"
     ]
    }
   ],
   "source": [
    "# %load './RREF_real.py'\n",
    "%matplotlib\n",
    "from __future__ import division\n",
    "import random\n",
    "from sympy import *\n",
    "x, y, z, t = symbols('x y z t')\n",
    "k, m, n = symbols('k m n', integer=True)\n",
    "f, g, h = symbols('f g h', cls=Function)\n",
    "init_printing()"
   ]
  },
  {
   "cell_type": "code",
   "execution_count": 5,
   "metadata": {
    "collapsed": false,
    "scrolled": true
   },
   "outputs": [
    {
     "data": {
      "image/png": "[encoded data removed]",
      "text/latex": [
       "$$\\left[\\begin{matrix}1 & 2 & 1\\\\0 & 4 & 0\\\\0 & -2 & -1\\end{matrix}\\right]$$"
      ],
      "text/plain": [
       "⎡1  2   1 ⎤\n",
       "⎢         ⎥\n",
       "⎢0  4   0 ⎥\n",
       "⎢         ⎥\n",
       "⎣0  -2  -1⎦"
      ]
     },
     "execution_count": 5,
     "metadata": {},
     "output_type": "execute_result"
    }
   ],
   "source": [
    "trbl_mkr = Matrix(3,3,[1,2,1,0,4,0,1,0,0])\n",
    "trbl_mkr\n",
    "Matrix([[1,0,0],[0,1,0],[-1,0,1]])*Matrix([[1,0,0],[0,1,0],[0,1/2,1]])*trbl_mkr"
   ]
  },
  {
   "cell_type": "code",
   "execution_count": 11,
   "metadata": {
    "collapsed": false
   },
   "outputs": [
    {
     "data": {
      "text/plain": [
       "⎡⎡1  0  0⎤, ⎡0  1  0⎤, [0  -5/6  0]⎤\n",
       "⎢⎢       ⎥  ⎢       ⎥              ⎥\n",
       "⎢⎢0  1  0⎥  ⎢1  0  0⎥              ⎥\n",
       "⎢⎢       ⎥  ⎢       ⎥              ⎥\n",
       "⎣⎣0  0  1⎦  ⎣0  0  1⎦              ⎦"
      ]
     },
     "execution_count": 11,
     "metadata": {},
     "output_type": "execute_result"
    }
   ],
   "source": [
    "row_op_storage"
   ]
  },
  {
   "cell_type": "code",
   "execution_count": 13,
   "metadata": {
    "collapsed": false
   },
   "outputs": [
    {
     "name": "stdout",
     "output_type": "stream",
     "text": [
      "> \u001b[1;32m<ipython-input-12-4cdfbcecb990>\u001b[0m(44)\u001b[0;36mshortEF\u001b[1;34m()\u001b[0m\n",
      "\u001b[1;32m     43 \u001b[1;33m    \u001b[1;32mglobal\u001b[0m \u001b[0mrow_op_storage\u001b[0m\u001b[1;33m\u001b[0m\u001b[0m\n",
      "\u001b[0m\u001b[1;32m---> 44 \u001b[1;33m    \u001b[0mpivots\u001b[0m \u001b[1;33m=\u001b[0m \u001b[1;33m[\u001b[0m\u001b[1;33m]\u001b[0m\u001b[1;33m\u001b[0m\u001b[0m\n",
      "\u001b[0m\u001b[1;32m     45 \u001b[1;33m    \u001b[0mcop\u001b[0m \u001b[1;33m=\u001b[0m \u001b[0mmtx\u001b[0m\u001b[1;33m.\u001b[0m\u001b[0mcopy\u001b[0m\u001b[1;33m(\u001b[0m\u001b[1;33m)\u001b[0m\u001b[1;33m\u001b[0m\u001b[0m\n",
      "\u001b[0m\n",
      "ipdb> c\n"
     ]
    },
    {
     "data": {
      "image/png": "[encoded data removed]",
      "text/latex": [
       "$$\\left [ \\left[\\begin{matrix}1 & 0 & 0\\\\0 & 1 & 0\\\\0 & 0 & 1\\end{matrix}\\right], \\quad \\left[\\begin{matrix}1 & 0 & 0\\\\0 & 1 & 0\\\\-1 & 0 & 1\\end{matrix}\\right], \\quad \\left[\\begin{matrix}1 & 0 & 0\\\\0 & 1 & 0\\\\0 & \\frac{1}{2} & 1\\end{matrix}\\right]\\right ]$$"
      ],
      "text/plain": [
       "⎡⎡1  0  0⎤, ⎡1   0  0⎤, ⎡1   0   0⎤⎤\n",
       "⎢⎢       ⎥  ⎢        ⎥  ⎢         ⎥⎥\n",
       "⎢⎢0  1  0⎥  ⎢0   1  0⎥  ⎢0   1   0⎥⎥\n",
       "⎢⎢       ⎥  ⎢        ⎥  ⎢         ⎥⎥\n",
       "⎣⎣0  0  1⎦  ⎣-1  0  1⎦  ⎣0  1/2  1⎦⎦"
      ]
     },
     "execution_count": 13,
     "metadata": {},
     "output_type": "execute_result"
    }
   ],
   "source": [
    "row_op_storage = [eye(3)]\n",
    "ipdb.runcall(shortEF,trbl_mkr)\n",
    "row_op_storage"
   ]
  },
  {
   "cell_type": "code",
   "execution_count": 26,
   "metadata": {
    "collapsed": false
   },
   "outputs": [
    {
     "data": {
      "text/plain": [
       "⎡⎡1  0  0⎤, ⎡0  1  0⎤, ⎡1  -5/6  0⎤, ⎡1  0  0 ⎤⎤\n",
       "⎢⎢       ⎥  ⎢       ⎥  ⎢          ⎥  ⎢        ⎥⎥\n",
       "⎢⎢0  1  0⎥  ⎢1  0  0⎥  ⎢0   1    0⎥  ⎢      11⎥⎥\n",
       "⎢⎢       ⎥  ⎢       ⎥  ⎢          ⎥  ⎢0  1  ──⎥⎥\n",
       "⎢⎣0  0  1⎦  ⎣0  0  1⎦  ⎣0   0    1⎦  ⎢      18⎥⎥\n",
       "⎢                                    ⎢        ⎥⎥\n",
       "⎣                                    ⎣0  0  1 ⎦⎦"
      ]
     },
     "execution_count": 26,
     "metadata": {},
     "output_type": "execute_result"
    }
   ],
   "source": [
    "[eye(3)*mtx for mtx in row_op_storage]"
   ]
  },
  {
   "cell_type": "code",
   "execution_count": 34,
   "metadata": {
    "collapsed": false
   },
   "outputs": [
    {
     "data": {
      "text/plain": [
       "[1, 0, 0]"
      ]
     },
     "execution_count": 34,
     "metadata": {},
     "output_type": "execute_result"
    }
   ],
   "source": [
    "list(row_op_storage[-1][:,0])"
   ]
  },
  {
   "cell_type": "code",
   "execution_count": 12,
   "metadata": {
    "collapsed": false
   },
   "outputs": [],
   "source": [
    "import ipdb\n",
    "row_op_storage = [eye(3)]\n",
    "def rolling_rep(mtx,row_starting):\n",
    "    global row_op_storage\n",
    "    rep_row = mtx[row_starting,:]\n",
    "    ret_mat = mtx.copy()\n",
    "    ret_mat.row_del(row_starting)\n",
    "    return ret_mat.row_insert(ret_mat.rows,rep_row)\n",
    "\n",
    "def target_swap(mtx,row,lst):\n",
    "    global row_op_storage\n",
    "    ret_mtx = mtx.copy()\n",
    "    rep_ind = find_nonzero_ind(lst,row)\n",
    "    stor_rep_row = eye(3)[rep_ind,:] # means take the most recent stored mtx and grab the row from it\n",
    "    tmp_mtx = eye(3).copy()\n",
    "    tmp_mtx[rep_ind,:] = eye(3)[row,:]\n",
    "    tmp_mtx[row,:] = stor_rep_row\n",
    "    row_op_storage.append(tmp_mtx)\n",
    "    if rep_ind:\n",
    "        rep_row = ret_mtx[rep_ind,:]\n",
    "        ret_mtx[rep_ind,:] = ret_mtx[row,:]\n",
    "        ret_mtx[row,:] =rep_row\n",
    "        return ret_mtx\n",
    "    return False\n",
    "\n",
    "def find_nonzero_ind(lst,row,backwards=False):\n",
    "    global row_op_storage\n",
    "    if backwards:\n",
    "        lst_to_bool = [x == 0 if i < row else True for i,x in enumerate(lst)]\n",
    "    else:\n",
    "        lst_to_bool = [x == 0 if i > row else True for i,x in enumerate(lst)]\n",
    "    if False not in lst_to_bool:\n",
    "        return False\n",
    "    return lst_to_bool.index(False)\n",
    "\n",
    "def add_mult_row(mtx,piv_row,other):\n",
    "    global row_op_storage\n",
    "    return solve(piv_row*x+ other,x)[0]\n",
    "\n",
    "\n",
    "\n",
    "def shortEF(mtx):\n",
    "    global row_op_storage\n",
    "    pivots = []\n",
    "    cop = mtx.copy()\n",
    "    row,col = 0,0\n",
    "    try_cap = cop.rows + 30\n",
    "    while row < cop.rows and col < cop.cols: #took off -1 from cop.rows mighthave broken stuff\n",
    "        col_list = list(cop[:,col])\n",
    "        if try_cap < 0:\n",
    "            return (row,col)\n",
    "        if col_list.count(0) == cop.rows or col_list[row:].count(0) > cop.rows -1 -row:\n",
    "            col +=1\n",
    "            continue\n",
    "        if cop[row,col] == 0 :\n",
    "                #cop = rolling_rep(cop,row)\n",
    "                cop = target_swap(cop,row,col_list)\n",
    "                try_cap -=1\n",
    "                continue\n",
    "        if col_list[row:].count(0) == cop.rows -1 -row:\n",
    "            pivots.append((row,col))\n",
    "            col +=1\n",
    "            row +=1\n",
    "            continue\n",
    "        else:\n",
    "            \n",
    "            rep_ind = find_nonzero_ind(col_list,row) #makes sure to not include the potential pivot row in the search but keeps the indexing constant with mtx\n",
    "            multiple_factor = add_mult_row(cop,cop[row,col],cop[rep_ind,col])\n",
    "            cop[rep_ind,:] += cop[row,:]*multiple_factor\n",
    "            tmp_mtx = eye(3)\n",
    "            tmp_mtx[rep_ind,col] += multiple_factor #this will add the correct value to the zero element to make an elementary matrix that can be multiplied with the original matrix to give us the row operation result\n",
    "            row_op_storage.append(tmp_mtx) # currently this is giving me only a single row, not the whole matrix\n",
    "    reduce_row(cop,pivots)\n",
    "    return cop\n",
    "\n",
    "def reduce_row(mtx,pivot_lst):\n",
    "    global row_op_storage\n",
    "    pivot_lst.reverse()\n",
    "    for row,col in pivot_lst:\n",
    "        mtx[row,:] = mtx[row,:]/mtx[row,col]\n",
    "        col_list = list(mtx[:,col])\n",
    "        while col_list.count(0) < mtx.rows -1:\n",
    "            rep_ind = find_nonzero_ind(col_list,row,True) #makes sure to not include the potential pivot row in the search but keeps the indexing constant with mtx\n",
    "            multiple_factor = add_mult_row(mtx,mtx[row,col],mtx[rep_ind,col])\n",
    "            mtx[rep_ind,:] += mtx[row,:]*multiple_factor\n",
    "            col_list = list(mtx[:,col])\n",
    "\n",
    "    \n",
    "## trbl seems to be about two zeros next to each other, fixed by using a check against \n",
    "\n",
    "\n",
    "##ipdb.runcall(shortEF,trbl_makr)"
   ]
  },
  {
   "cell_type": "code",
   "execution_count": null,
   "metadata": {
    "collapsed": false
   },
   "outputs": [],
   "source": [
    "def main ():\n",
    "    serious_trbl_mkrs = []\n",
    "    runs = 200\n",
    "    for i in range(runs):\n",
    "        trbl_mkr = Matrix(7,8,[random.randrange(1,100) if random.randrange(1,5) < 3 else 0 for num in range(56)])\n",
    "        if shortEF(trbl_mkr) != trbl_mkr.rref()[0]:\n",
    "            serious_trbl_mkrs.append(trbl_mkr)\n",
    "\n",
    "    pprint(serious_trbl_mkrs)\n",
    "    if len(serious_trbl_mkrs)/runs == 0.0:\n",
    "        print('no incorrect RREFS')\n",
    "\n",
    "if __name__ == \"__main__\":\n",
    "    main()\n",
    "    #ipdb.runcall(main)O\n",
    "    "
   ]
  }
 ],
 "metadata": {
  "kernelspec": {
   "display_name": "Python 3",
   "language": "python",
   "name": "python3"
  },
  "language_info": {
   "codemirror_mode": {
    "name": "ipython",
    "version": 3
   },
   "file_extension": ".py",
   "mimetype": "text/x-python",
   "name": "python",
   "nbconvert_exporter": "python",
   "pygments_lexer": "ipython3",
   "version": "3.5.1"
  }
 },
 "nbformat": 4,
 "nbformat_minor": 0
}
