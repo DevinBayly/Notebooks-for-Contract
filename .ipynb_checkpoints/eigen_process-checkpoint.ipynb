{
 "cells": [
  {
   "cell_type": "code",
   "execution_count": 5,
   "metadata": {
    "collapsed": true
   },
   "outputs": [],
   "source": [
    "# %load RREF_real.py\n",
    "from __future__ import division\n",
    "import random as dom\n",
    "from RREF_real import *\n",
    "from sympy import *\n",
    "x, y, z, t = symbols('x y z t')\n",
    "k, m, n = symbols('k m n', integer=True)\n",
    "f, g, h = symbols('f g h', cls=Function)\n",
    "init_printing()\n",
    "import ipdb\n"
   ]
  },
  {
   "cell_type": "markdown",
   "metadata": {
    "variables": {
     "some_mtx": "$$\\left[\\begin{matrix}60 & 0 & 32 & 0\\\\0 & 0 & 17 & 0\\\\0 & 6 & 51 & 0\\\\0 & 0 & 0 & 0\\end{matrix}\\right]$$"
    }
   },
   "source": [
    "testing the special plugin here\n",
    "{{some_mtx}}"
   ]
  },
  {
   "cell_type": "code",
   "execution_count": 34,
   "metadata": {
    "collapsed": false,
    "scrolled": true
   },
   "outputs": [
    {
     "data": {
      "image/png": "[encoded data removed]",
      "text/latex": [
       "$$\\left[\\begin{matrix}85 & 0 & 58 & 0\\\\0 & 86 & 63 & 52\\\\43 & 49 & 70 & 0\\\\0 & 0 & 0 & 0\\end{matrix}\\right]$$"
      ],
      "text/plain": [
       "⎡85  0   58  0 ⎤\n",
       "⎢              ⎥\n",
       "⎢0   86  63  52⎥\n",
       "⎢              ⎥\n",
       "⎢43  49  70  0 ⎥\n",
       "⎢              ⎥\n",
       "⎣0   0   0   0 ⎦"
      ]
     },
     "execution_count": 34,
     "metadata": {},
     "output_type": "execute_result"
    }
   ],
   "source": [
    "some_mtx = Matrix(4,4,[dom.randrange(1,100) if dom.randrange(1,5) >2 else 0\n",
    "                       for i in range(16)])\n",
    "some_mtx"
   ]
  },
  {
   "cell_type": "code",
   "execution_count": 45,
   "metadata": {
    "collapsed": false
   },
   "outputs": [
    {
     "data": {
      "image/png": "[encoded data removed]",
      "text/latex": [
       "$$\\left[\\begin{matrix}85 & 0 & 58 & 0 & 0 & 0 & 0 & 0\\\\0 & 86 & 63 & 52 & 0 & 0 & 0 & 0\\\\43 & 49 & 70 & 0 & 0 & 0 & 0 & 0\\\\0 & 0 & 0 & 0 & 0 & 0 & 0 & 0\\end{matrix}\\right]$$"
      ],
      "text/plain": [
       "⎡85  0   58  0   0  0  0  0⎤\n",
       "⎢                          ⎥\n",
       "⎢0   86  63  52  0  0  0  0⎥\n",
       "⎢                          ⎥\n",
       "⎢43  49  70  0   0  0  0  0⎥\n",
       "⎢                          ⎥\n",
       "⎣0   0   0   0   0  0  0  0⎦"
      ]
     },
     "execution_count": 45,
     "metadata": {},
     "output_type": "execute_result"
    }
   ],
   "source": [
    "add_prac = some_mtx.copy()\n",
    "add_prac.col_insert(add_prac.shape[1],zeros(4))"
   ]
  },
  {
   "cell_type": "markdown",
   "metadata": {},
   "source": [
    "creating tool to solve equations to yield eigen Vectors"
   ]
  },
  {
   "cell_type": "code",
   "execution_count": 56,
   "metadata": {
    "collapsed": false,
    "scrolled": false
   },
   "outputs": [
    {
     "name": "stdout",
     "output_type": "stream",
     "text": [
      "evaluating  0\n",
      "evaluating  70\n",
      "no eigen vectors for 70 eigen value\n",
      "evaluating  85\n",
      "no eigen vectors for 85 eigen value\n",
      "evaluating  86\n",
      "no eigen vectors for 86 eigen value\n"
     ]
    }
   ],
   "source": [
    "### need to write some code that can put together a column vector as a solution to the ax=b eqn\n",
    "### setting\n",
    "def calc_eig_val(mtx):\n",
    "    grab_diag = lambda A: [A[i,i] for i in range(A.shape[0])]\n",
    "    lambs = list(set(grab_diag(mtx))) \n",
    "    return lambs\n",
    "    \n",
    "def calc_eig_vec(mtx,eig_val):\n",
    "    mtx = mtx-eye(mtx.shape[0])*eig_val\n",
    "    aug_mtx = mtx.col_insert(mtx.shape[1],zeros(mtx.shape[0],1)) # all the shape business is just retrieving information that is stored about the actual object so this can scale\n",
    "    reduced_aug = shortEF(aug_mtx)\n",
    "    result = parameterize(aug_mtx)\n",
    "    if not result: #meaning if parameterize is empty of result\n",
    "        print('no eigen vectors for {} eigen value'.format(eig_val))\n",
    "        return None\n",
    "    return result\n",
    "\n",
    "for val in calc_eig_val(some_mtx):\n",
    "    print('evaluating ',val)\n",
    "    calc_eig_vec(some_mtx,val)\n",
    "\n",
    "\n",
    "\n",
    "    \n",
    "    \n"
   ]
  },
  {
   "cell_type": "code",
   "execution_count": 35,
   "metadata": {
    "collapsed": false
   },
   "outputs": [
    {
     "data": {
      "image/png": "[encoded data removed]",
      "text/latex": [
       "$$\\left[\\begin{matrix}1 & 0 & 0 & \\frac{147784}{34821}\\\\0 & 1 & 0 & \\frac{19968}{3869}\\\\0 & 0 & 1 & - \\frac{216580}{34821}\\\\0 & 0 & 0 & 0\\end{matrix}\\right]$$"
      ],
      "text/plain": [
       "⎡          147784 ⎤\n",
       "⎢1  0  0   ────── ⎥\n",
       "⎢          34821  ⎥\n",
       "⎢                 ⎥\n",
       "⎢          19968  ⎥\n",
       "⎢0  1  0   ─────  ⎥\n",
       "⎢           3869  ⎥\n",
       "⎢                 ⎥\n",
       "⎢         -216580 ⎥\n",
       "⎢0  0  1  ────────⎥\n",
       "⎢          34821  ⎥\n",
       "⎢                 ⎥\n",
       "⎣0  0  0     0    ⎦"
      ]
     },
     "execution_count": 35,
     "metadata": {},
     "output_type": "execute_result"
    }
   ],
   "source": [
    "shortEF(some_mtx)"
   ]
  },
  {
   "cell_type": "code",
   "execution_count": 36,
   "metadata": {
    "collapsed": false
   },
   "outputs": [
    {
     "data": {
      "image/png": "[encoded data removed]",
      "text/latex": [
       "$$\\left [ \\left[\\begin{matrix}\\frac{147784}{34821}\\\\\\frac{19968}{3869}\\\\- \\frac{216580}{34821}\\\\0\\end{matrix}\\right]\\right ]$$"
      ],
      "text/plain": [
       "⎡⎡ 147784 ⎤⎤\n",
       "⎢⎢ ────── ⎥⎥\n",
       "⎢⎢ 34821  ⎥⎥\n",
       "⎢⎢        ⎥⎥\n",
       "⎢⎢ 19968  ⎥⎥\n",
       "⎢⎢ ─────  ⎥⎥\n",
       "⎢⎢  3869  ⎥⎥\n",
       "⎢⎢        ⎥⎥\n",
       "⎢⎢-216580 ⎥⎥\n",
       "⎢⎢────────⎥⎥\n",
       "⎢⎢ 34821  ⎥⎥\n",
       "⎢⎢        ⎥⎥\n",
       "⎣⎣   0    ⎦⎦"
      ]
     },
     "execution_count": 36,
     "metadata": {},
     "output_type": "execute_result"
    }
   ],
   "source": [
    "parameterize(some_mtx)"
   ]
  },
  {
   "cell_type": "code",
   "execution_count": 47,
   "metadata": {
    "collapsed": false
   },
   "outputs": [],
   "source": [
    "def parameterize(mtx):\n",
    "    ret_list=[]\n",
    "    for i in range(mtx.shape[0]):\n",
    "        if mtx[i,i] != 1: #i here is just checking for presence of pivot positions\n",
    "            if i != mtx.shape[0]:\n",
    "                ret_list.append(-1*mtx[:,i])\n",
    "            else:\n",
    "                ret_list.append(mtx[:,i])\n",
    "                \n",
    "    return ret_list\n"
   ]
  }
 ],
 "metadata": {
  "kernelspec": {
   "display_name": "Python 3",
   "language": "python",
   "name": "python3"
  },
  "language_info": {
   "codemirror_mode": {
    "name": "ipython",
    "version": 3
   },
   "file_extension": ".py",
   "mimetype": "text/x-python",
   "name": "python",
   "nbconvert_exporter": "python",
   "pygments_lexer": "ipython3",
   "version": "3.5.1"
  }
 },
 "nbformat": 4,
 "nbformat_minor": 0
}
