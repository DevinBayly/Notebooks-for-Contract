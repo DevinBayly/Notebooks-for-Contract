{
 "cells": [
  {
   "cell_type": "code",
   "execution_count": 5,
   "metadata": {
    "collapsed": false
   },
   "outputs": [
    {
     "name": "stdout",
     "output_type": "stream",
     "text": [
      "{\n",
      "  \"control_port\": 58289,\n",
      "  \"signature_scheme\": \"hmac-sha256\",\n",
      "  \"key\": \"85df0dde-811e-43bc-bfee-009b6c8e7dee\",\n",
      "  \"transport\": \"tcp\",\n",
      "  \"ip\": \"127.0.0.1\",\n",
      "  \"hb_port\": 52221,\n",
      "  \"stdin_port\": 40001,\n",
      "  \"iopub_port\": 59412,\n",
      "  \"shell_port\": 41362\n",
      "}\n",
      "\n",
      "Paste the above JSON into a file, and connect with:\n",
      "    $> ipython <app> --existing <file>\n",
      "or, if you are local, you can connect with just:\n",
      "    $> ipython <app> --existing /run/user/1000/jupyter/kernel-472d78f6-e57c-4c9e-815d-9d4e7c2f2810.json \n",
      "or even just:\n",
      "    $> ipython <app> --existing \n",
      "if this is the most recent IPython session you have started.\n"
     ]
    }
   ],
   "source": [
    "%connect_info"
   ]
  },
  {
   "cell_type": "code",
   "execution_count": 1,
   "metadata": {
    "collapsed": false
   },
   "outputs": [
    {
     "name": "stdout",
     "output_type": "stream",
     "text": [
      "IPython console for SymPy 0.7.6.1 (Python 3.5.1-64-bit) (ground types: python)\n",
      "\n",
      "These commands were executed:\n",
      ">>> from __future__ import division\n",
      ">>> from sympy import *\n",
      ">>> x, y, z, t = symbols('x y z t')\n",
      ">>> k, m, n = symbols('k m n', integer=True)\n",
      ">>> f, g, h = symbols('f g h', cls=Function)\n",
      ">>> init_printing()\n",
      "\n",
      "Documentation can be found at http://www.sympy.org\n"
     ]
    },
    {
     "ename": "MultipleInstanceError",
     "evalue": "Multiple incompatible subclass instances of TerminalIPythonApp are being created.",
     "output_type": "error",
     "traceback": [
      "\u001b[1;31m---------------------------------------------------------------------------\u001b[0m",
      "\u001b[1;31mMultipleInstanceError\u001b[0m                     Traceback (most recent call last)",
      "\u001b[1;32m<ipython-input-1-bfa0875c1f1f>\u001b[0m in \u001b[0;36m<module>\u001b[1;34m()\u001b[0m\n\u001b[0;32m      1\u001b[0m \u001b[1;32mfrom\u001b[0m \u001b[0msympy\u001b[0m \u001b[1;32mimport\u001b[0m \u001b[0minit_session\u001b[0m\u001b[1;33m\u001b[0m\u001b[0m\n\u001b[0;32m      2\u001b[0m \u001b[0minit_session\u001b[0m\u001b[1;33m(\u001b[0m\u001b[1;33m)\u001b[0m\u001b[1;33m\u001b[0m\u001b[0m\n\u001b[1;32m----> 3\u001b[1;33m \u001b[1;32mimport\u001b[0m \u001b[0mipdb\u001b[0m\u001b[1;33m\u001b[0m\u001b[0m\n\u001b[0m\u001b[0;32m      4\u001b[0m \u001b[1;33m\u001b[0m\u001b[0m\n\u001b[0;32m      5\u001b[0m \u001b[0mstr_mtrx\u001b[0m \u001b[1;33m=\u001b[0m \u001b[1;34m\"1 0 0 0 1 0 2 -1 1 -6 0 -4\"\u001b[0m\u001b[1;33m\u001b[0m\u001b[0m\n",
      "\u001b[1;32m/home/dev/miniconda3/lib/python3.5/site-packages/ipdb/__init__.py\u001b[0m in \u001b[0;36m<module>\u001b[1;34m()\u001b[0m\n\u001b[0;32m      5\u001b[0m \u001b[1;31m# https://opensource.org/licenses/BSD-3-Clause\u001b[0m\u001b[1;33m\u001b[0m\u001b[1;33m\u001b[0m\u001b[0m\n\u001b[0;32m      6\u001b[0m \u001b[1;33m\u001b[0m\u001b[0m\n\u001b[1;32m----> 7\u001b[1;33m \u001b[1;32mfrom\u001b[0m \u001b[0mipdb\u001b[0m\u001b[1;33m.\u001b[0m\u001b[0m__main__\u001b[0m \u001b[1;32mimport\u001b[0m \u001b[0mset_trace\u001b[0m\u001b[1;33m,\u001b[0m \u001b[0mpost_mortem\u001b[0m\u001b[1;33m,\u001b[0m \u001b[0mpm\u001b[0m\u001b[1;33m,\u001b[0m \u001b[0mrun\u001b[0m\u001b[1;33m,\u001b[0m \u001b[0mruncall\u001b[0m\u001b[1;33m,\u001b[0m \u001b[0mruneval\u001b[0m\u001b[1;33m,\u001b[0m \u001b[0mlaunch_ipdb_on_exception\u001b[0m\u001b[1;33m\u001b[0m\u001b[0m\n\u001b[0m\u001b[0;32m      8\u001b[0m \u001b[1;33m\u001b[0m\u001b[0m\n\u001b[0;32m      9\u001b[0m \u001b[0mpm\u001b[0m                       \u001b[1;31m# please pyflakes\u001b[0m\u001b[1;33m\u001b[0m\u001b[0m\n",
      "\u001b[1;32m/home/dev/miniconda3/lib/python3.5/site-packages/ipdb/__main__.py\u001b[0m in \u001b[0;36m<module>\u001b[1;34m()\u001b[0m\n\u001b[0;32m     64\u001b[0m         \u001b[1;31m# the instance method will create a new one without loading the config.\u001b[0m\u001b[1;33m\u001b[0m\u001b[1;33m\u001b[0m\u001b[0m\n\u001b[0;32m     65\u001b[0m         \u001b[1;31m# i.e: if we are in an embed instance we do not want to load the config.\u001b[0m\u001b[1;33m\u001b[0m\u001b[1;33m\u001b[0m\u001b[0m\n\u001b[1;32m---> 66\u001b[1;33m         \u001b[0mipapp\u001b[0m \u001b[1;33m=\u001b[0m \u001b[0mTerminalIPythonApp\u001b[0m\u001b[1;33m.\u001b[0m\u001b[0minstance\u001b[0m\u001b[1;33m(\u001b[0m\u001b[1;33m)\u001b[0m\u001b[1;33m\u001b[0m\u001b[0m\n\u001b[0m\u001b[0;32m     67\u001b[0m         \u001b[0mshell\u001b[0m \u001b[1;33m=\u001b[0m \u001b[0mget_ipython\u001b[0m\u001b[1;33m(\u001b[0m\u001b[1;33m)\u001b[0m\u001b[1;33m\u001b[0m\u001b[0m\n\u001b[0;32m     68\u001b[0m         \u001b[0mdef_colors\u001b[0m \u001b[1;33m=\u001b[0m \u001b[0mshell\u001b[0m\u001b[1;33m.\u001b[0m\u001b[0mcolors\u001b[0m\u001b[1;33m\u001b[0m\u001b[0m\n",
      "\u001b[1;32m/home/dev/miniconda3/lib/python3.5/site-packages/traitlets/config/configurable.py\u001b[0m in \u001b[0;36minstance\u001b[1;34m(cls, *args, **kwargs)\u001b[0m\n\u001b[0;32m    414\u001b[0m             raise MultipleInstanceError(\n\u001b[0;32m    415\u001b[0m                 \u001b[1;34m'Multiple incompatible subclass instances of '\u001b[0m\u001b[1;33m\u001b[0m\u001b[0m\n\u001b[1;32m--> 416\u001b[1;33m                 \u001b[1;34m'%s are being created.'\u001b[0m \u001b[1;33m%\u001b[0m \u001b[0mcls\u001b[0m\u001b[1;33m.\u001b[0m\u001b[0m__name__\u001b[0m\u001b[1;33m\u001b[0m\u001b[0m\n\u001b[0m\u001b[0;32m    417\u001b[0m             )\n\u001b[0;32m    418\u001b[0m \u001b[1;33m\u001b[0m\u001b[0m\n",
      "\u001b[1;31mMultipleInstanceError\u001b[0m: Multiple incompatible subclass instances of TerminalIPythonApp are being created."
     ]
    }
   ],
   "source": [
    "from sympy import init_session\n",
    "init_session()\n",
    "import ipdb\n",
    "\n",
    "str_mtrx = \"1 0 0 0 1 0 2 -1 1 -6 0 -4\"\n",
    "f = lambda A, n=4 : [A[i:i+n] for i in range(0,len(A),n)] \n",
    "p = lambda A : Matrix(f([ int (i) for i in A.split()]))\n",
    "my_mat = p(str_mtrx)\n",
    "my_mat\n"
   ]
  },
  {
   "cell_type": "code",
   "execution_count": 7,
   "metadata": {
    "collapsed": false
   },
   "outputs": [
    {
     "data": {
      "image/png": "[encoded data removed]",
      "text/latex": [
       "$$\\left ( \\left[\\begin{matrix}1 & 0 & 0 & 0\\\\0 & 1 & 0 & \\frac{2}{3}\\\\0 & 0 & 1 & - \\frac{1}{2}\\end{matrix}\\right], \\quad \\left [ 0, \\quad 1, \\quad 2\\right ]\\right )$$"
      ],
      "text/plain": [
       "⎛⎡1  0  0   0  ⎤, [0, 1, 2]⎞\n",
       "⎜⎢             ⎥           ⎟\n",
       "⎜⎢0  1  0  2/3 ⎥           ⎟\n",
       "⎜⎢             ⎥           ⎟\n",
       "⎝⎣0  0  1  -1/2⎦           ⎠"
      ]
     },
     "execution_count": 7,
     "metadata": {},
     "output_type": "execute_result"
    }
   ],
   "source": [
    "my_mat.rref()"
   ]
  },
  {
   "cell_type": "code",
   "execution_count": 8,
   "metadata": {
    "collapsed": false
   },
   "outputs": [
    {
     "name": "stdout",
     "output_type": "stream",
     "text": [
      "⎡0  -48  1   1⎤\n",
      "⎢             ⎥\n",
      "⎢0   8   -1  4⎥\n",
      "⎢             ⎥\n",
      "⎣0   0   1   1⎦\n"
     ]
    }
   ],
   "source": [
    "trbl_mkr = \"0 -48 1 1 0 8 -1 4 0 0 1 1 \" #having 48 crashed program\n",
    "trbl_mtrx = p(trbl_mkr)\n",
    "pprint(trbl_mtrx)"
   ]
  },
  {
   "cell_type": "code",
   "execution_count": 9,
   "metadata": {
    "collapsed": true
   },
   "outputs": [],
   "source": [
    "str_mtrx = \"2 0 0 0 1 0 2 -1 2 -1 0 -4\"\n",
    "f = lambda A, n=4 : [A[i:i+n] for i in range(0,len(A),n)] #this creates a short purposed function that is used with the one below to give us a sympy matrix object from a string of integers separated by spaces\n",
    "p = lambda A : Matrix(f([ int (i) for i in A.split()]))"
   ]
  },
  {
   "cell_type": "code",
   "execution_count": 10,
   "metadata": {
    "collapsed": false
   },
   "outputs": [],
   "source": [
    "my_mat = p(str_mtrx)\n",
    "my_mat\n",
    "def RREF(mtx):\n",
    "    \"\"\"this function exists to perform the correct operations and shifts to a matrix\n",
    "    resulting in what is known as the echelon form\n",
    "    \n",
    "    it only takes a matrix mtx and changes it in place\n",
    "    \n",
    "    returns none\"\"\"\n",
    "    i = 0 #this is our indexer for the rows of the mtx matrix\n",
    "    try_cap = 5 #this is a backup value that has been coded do decrease while the function performs operations likely to infinite loop\n",
    "\n",
    "    pprint(mtx) #this command prints out our matrix using the latex character parser\n",
    "    while i < mtx.cols-1: # quite possibly not necessary for ending, this while loop will run until we reach an i value 1 less than the number of columns, no operations need to be performed on the final row anyways\n",
    "        col_list = list(mtx.col(i)[i:]) #each time we run the loop will give us a list of the columns below the row we are creating a pivot for\n",
    "        zero_check = [i==0 for i in col_list]\n",
    "        if False not in zero_check:\n",
    "            print(\"column of zeros\")\n",
    "            continue\n",
    "        else:\n",
    "            swap_ind = zero_check.index(False)\n",
    "        if i == mtx.rows-1: # if we reach the last row, we don't need to do anything more\n",
    "            print(\"done\")\n",
    "            pprint(mtx)\n",
    "            break\n",
    "        if col_list[0] != 0: #this check creates error when rest of column shrinks\n",
    "            if col_list.count(0) == mtx.rows -(i + 1): # the plus ones are going to need to go sooner or later\n",
    "                print(\"pivot column found\") \n",
    "                pprint(mtx) # this is where the while loop could tick overto the next\n",
    "                i += 1\n",
    "            else: # this needs to happen for each non zero col entry with a row to match\n",
    "                print(\"row replacing\")\n",
    "                rep_inds = [i for i in range(i+1,len(col_list)) if col_list[i] != 0] #this creates a list using list comprehension featuring the indexes in the column that row operations need to be applied to\n",
    "                print(\"rep_inds are\",rep_inds)\n",
    "                for rep_ind in rep_inds: # now we iterate through the indexes of the rows that need to have elementary row operations on them\n",
    "                    print(\"replacing row with leading entry\",col_list[rep_ind])\n",
    "                    pprint(mtx)\n",
    "#                     multiple_factor = add_mult_row(mtx,mtx.row(i) , mtx.row(rep_ind) )[0] #effectively says solve for x that makes this 0\n",
    "                    multiple_factor = non_sym_operation(mtx,mtx.row(i) , mtx.row(rep_ind)) #this is a function call to the below function use to give us a multiple that makes the row addition zero out the leading entry of the non i index rows\n",
    "                    print(multiple_factor, \"is multiple factor\")\n",
    "                    print(\"addition row looks like\")\n",
    "                    pprint(mtx.row(i)*multiple_factor)\n",
    "                    mtx[rep_ind,:] += mtx.row(i)*multiple_factor #this is an operator overloading expression meaning that we tell python to add the right information to the assigned variable and update the variable we are naming, this is equivalent to saying xnew = xold + some val\n",
    "                    print(\"elementary row operation took place\")\n",
    "                    pprint(mtx)\n",
    "\n",
    "        else:\n",
    "            if try_cap < 0: # if we try to perform 5 row switches without triggering any of the above code, then we are probably broken, and should stop the loop\n",
    "                break\n",
    "            print(\"swapping. try cap is\",try_cap)\n",
    "            swap_num = i+1 #this will have to become more flexible, related to i\n",
    "            swap_rows(mtx,i,swap_num) # this function basically shifts all the rows up by one, such that we wind up with the leading zero rows lower than the others\n",
    "            print(\"swapped\")\n",
    "            pprint(mtx)\n",
    "            try_cap -= 1"
   ]
  },
  {
   "cell_type": "code",
   "execution_count": null,
   "metadata": {
    "collapsed": true
   },
   "outputs": [],
   "source": [
    "test_mat = my_mat.copy()\n",
    "def swap_rows(mtx,num1,num2):\n",
    "    top = mtx.row(num1)\n",
    "    mtx[num1,:] = mtx.row(num2)\n",
    "    mtx[num2,:] = top\n",
    "    return mtx\n",
    "pprint(swap_rows(test_mat,1,1))\n",
    "pprint(my_mat)\n",
    "\n",
    "test_mat = my_mat.copy()\n",
    "def add_mult_row(mtx,top_row,bottom_row):\n",
    "    return solve(top_row[0]*x+ bottom_row[0],x)\n",
    "add_mult_row(test_mat,test_mat.row(1),test_mat.row(2))\n",
    "\n",
    "my_mat.row(0)*-1"
   ]
  },
  {
   "cell_type": "code",
   "execution_count": 14,
   "metadata": {
    "collapsed": false,
    "scrolled": false
   },
   "outputs": [
    {
     "name": "stdout",
     "output_type": "stream",
     "text": [
      "⎡2  0   0  0 ⎤\n",
      "⎢            ⎥\n",
      "⎢1  0   2  -1⎥\n",
      "⎢            ⎥\n",
      "⎣2  -1  0  -4⎦\n"
     ]
    },
    {
     "data": {
      "image/png": "[encoded data removed]",
      "text/latex": [
       "$$1$$"
      ],
      "text/plain": [
       "1"
      ]
     },
     "execution_count": 14,
     "metadata": {},
     "output_type": "execute_result"
    }
   ],
   "source": [
    "def find_first_swap (mtx,col):\n",
    "    current_col = [i == 0 for i in mtx.col(col)]\n",
    "    if False not in current_col:\n",
    "        return None\n",
    "    return current_col.index(False)\n",
    "pprint(my_mat)\n",
    "    \n",
    "find_first_swap(my_mat,2)"
   ]
  },
  {
   "cell_type": "code",
   "execution_count": 7,
   "metadata": {
    "collapsed": false
   },
   "outputs": [
    {
     "name": "stdout",
     "output_type": "stream",
     "text": [
      "> \u001b[1;32m<ipython-input-5-45ad98c49315>\u001b[0m(12)\u001b[0;36madd_mult_row\u001b[1;34m()\u001b[0m\n",
      "\u001b[1;32m     11 \u001b[1;33m\u001b[1;32mdef\u001b[0m \u001b[0madd_mult_row\u001b[0m\u001b[1;33m(\u001b[0m\u001b[0mmtx\u001b[0m\u001b[1;33m,\u001b[0m\u001b[0mtop_row\u001b[0m\u001b[1;33m,\u001b[0m\u001b[0mbottom_row\u001b[0m\u001b[1;33m)\u001b[0m\u001b[1;33m:\u001b[0m\u001b[1;33m\u001b[0m\u001b[0m\n",
      "\u001b[0m\u001b[1;32m---> 12 \u001b[1;33m    \u001b[1;32mreturn\u001b[0m \u001b[0msolve\u001b[0m\u001b[1;33m(\u001b[0m\u001b[0mtop_row\u001b[0m\u001b[1;33m[\u001b[0m\u001b[1;36m0\u001b[0m\u001b[1;33m]\u001b[0m\u001b[1;33m*\u001b[0m\u001b[0mx\u001b[0m\u001b[1;33m+\u001b[0m \u001b[0mbottom_row\u001b[0m\u001b[1;33m[\u001b[0m\u001b[1;36m0\u001b[0m\u001b[1;33m]\u001b[0m\u001b[1;33m,\u001b[0m\u001b[0mx\u001b[0m\u001b[1;33m)\u001b[0m\u001b[1;33m\u001b[0m\u001b[0m\n",
      "\u001b[0m\u001b[1;32m     13 \u001b[1;33m\u001b[0madd_mult_row\u001b[0m\u001b[1;33m(\u001b[0m\u001b[0mtest_mat\u001b[0m\u001b[1;33m,\u001b[0m\u001b[0mtest_mat\u001b[0m\u001b[1;33m.\u001b[0m\u001b[0mrow\u001b[0m\u001b[1;33m(\u001b[0m\u001b[1;36m1\u001b[0m\u001b[1;33m)\u001b[0m\u001b[1;33m,\u001b[0m\u001b[0mtest_mat\u001b[0m\u001b[1;33m.\u001b[0m\u001b[0mrow\u001b[0m\u001b[1;33m(\u001b[0m\u001b[1;36m2\u001b[0m\u001b[1;33m)\u001b[0m\u001b[1;33m)\u001b[0m\u001b[1;33m\u001b[0m\u001b[0m\n",
      "\u001b[0m\n",
      "ipdb> h\n",
      "\n",
      "Documented commands (type help <topic>):\n",
      "========================================\n",
      "EOF    c          d        h         next    pp       retval  u          whatis\n",
      "a      cl         debug    help      p       psource  run     unalias    where \n",
      "alias  clear      disable  ignore    pdef    q        rv      undisplay\n",
      "args   commands   display  interact  pdoc    quit     s       unt      \n",
      "b      condition  down     j         pfile   r        source  until    \n",
      "break  cont       enable   jump      pinfo   restart  step    up       \n",
      "bt     continue   exit     n         pinfo2  return   tbreak  w        \n",
      "\n",
      "Miscellaneous help topics:\n",
      "==========================\n",
      "exec  pdb\n",
      "\n",
      "Undocumented commands:\n",
      "======================\n",
      "l  list  ll  longlist\n",
      "\n",
      "ipdb> l\n",
      "\u001b[0;32m      7 \u001b[0m\u001b[0mpprint\u001b[0m\u001b[1;33m(\u001b[0m\u001b[0mswap_rows\u001b[0m\u001b[1;33m(\u001b[0m\u001b[0mtest_mat\u001b[0m\u001b[1;33m,\u001b[0m\u001b[1;36m2\u001b[0m\u001b[1;33m,\u001b[0m\u001b[1;36m1\u001b[0m\u001b[1;33m)\u001b[0m\u001b[1;33m)\u001b[0m\u001b[1;33m\u001b[0m\u001b[0m\n",
      "\u001b[0;32m      8 \u001b[0m\u001b[0mpprint\u001b[0m\u001b[1;33m(\u001b[0m\u001b[0mmy_mat\u001b[0m\u001b[1;33m)\u001b[0m\u001b[1;33m\u001b[0m\u001b[0m\n",
      "\u001b[0;32m      9 \u001b[0m\u001b[1;33m\u001b[0m\u001b[0m\n",
      "\u001b[0;32m     10 \u001b[0m\u001b[0mtest_mat\u001b[0m \u001b[1;33m=\u001b[0m \u001b[0mmy_mat\u001b[0m\u001b[1;33m.\u001b[0m\u001b[0mcopy\u001b[0m\u001b[1;33m(\u001b[0m\u001b[1;33m)\u001b[0m\u001b[1;33m\u001b[0m\u001b[0m\n",
      "\u001b[0;32m     11 \u001b[0m\u001b[1;32mdef\u001b[0m \u001b[0madd_mult_row\u001b[0m\u001b[1;33m(\u001b[0m\u001b[0mmtx\u001b[0m\u001b[1;33m,\u001b[0m\u001b[0mtop_row\u001b[0m\u001b[1;33m,\u001b[0m\u001b[0mbottom_row\u001b[0m\u001b[1;33m)\u001b[0m\u001b[1;33m:\u001b[0m\u001b[1;33m\u001b[0m\u001b[0m\n",
      "\u001b[1;32m---> 12 \u001b[1;33m    \u001b[1;32mreturn\u001b[0m \u001b[0msolve\u001b[0m\u001b[1;33m(\u001b[0m\u001b[0mtop_row\u001b[0m\u001b[1;33m[\u001b[0m\u001b[1;36m0\u001b[0m\u001b[1;33m]\u001b[0m\u001b[1;33m*\u001b[0m\u001b[0mx\u001b[0m\u001b[1;33m+\u001b[0m \u001b[0mbottom_row\u001b[0m\u001b[1;33m[\u001b[0m\u001b[1;36m0\u001b[0m\u001b[1;33m]\u001b[0m\u001b[1;33m,\u001b[0m\u001b[0mx\u001b[0m\u001b[1;33m)\u001b[0m\u001b[1;33m\u001b[0m\u001b[0m\n",
      "\u001b[0m\u001b[0;32m     13 \u001b[0m\u001b[0madd_mult_row\u001b[0m\u001b[1;33m(\u001b[0m\u001b[0mtest_mat\u001b[0m\u001b[1;33m,\u001b[0m\u001b[0mtest_mat\u001b[0m\u001b[1;33m.\u001b[0m\u001b[0mrow\u001b[0m\u001b[1;33m(\u001b[0m\u001b[1;36m1\u001b[0m\u001b[1;33m)\u001b[0m\u001b[1;33m,\u001b[0m\u001b[0mtest_mat\u001b[0m\u001b[1;33m.\u001b[0m\u001b[0mrow\u001b[0m\u001b[1;33m(\u001b[0m\u001b[1;36m2\u001b[0m\u001b[1;33m)\u001b[0m\u001b[1;33m)\u001b[0m\u001b[1;33m\u001b[0m\u001b[0m\n",
      "\u001b[0;32m     14 \u001b[0m\u001b[1;33m\u001b[0m\u001b[0m\n",
      "\u001b[0;32m     15 \u001b[0m\u001b[0mmy_mat\u001b[0m\u001b[1;33m.\u001b[0m\u001b[0mrow\u001b[0m\u001b[1;33m(\u001b[0m\u001b[1;36m0\u001b[0m\u001b[1;33m)\u001b[0m\u001b[1;33m*\u001b[0m\u001b[1;33m-\u001b[0m\u001b[1;36m1\u001b[0m\u001b[1;33m\u001b[0m\u001b[0m\n",
      "\n",
      "ipdb> top_row\n",
      "Matrix([[1, 0, 2, -1]])\n",
      "ipdb> c\n"
     ]
    },
    {
     "data": {
      "image/png": "[encoded data removed]",
      "text/latex": [
       "$$\\left [ -1\\right ]$$"
      ],
      "text/plain": [
       "[-1]"
      ]
     },
     "execution_count": 7,
     "metadata": {},
     "output_type": "execute_result"
    }
   ],
   "source": [
    "ipdb.runcall(add_mult_row,test_mat,test_mat.row(1),test_mat.row(2))"
   ]
  },
  {
   "cell_type": "code",
   "execution_count": null,
   "metadata": {
    "collapsed": true
   },
   "outputs": [],
   "source": [
    "y = 1\n",
    "x = -3\n",
    "solve()"
   ]
  },
  {
   "cell_type": "code",
   "execution_count": 4,
   "metadata": {
    "collapsed": false
   },
   "outputs": [
    {
     "data": {
      "image/png": "[encoded data removed]",
      "text/latex": [
       "$$\\left ( \\left[\\begin{matrix}1 & 0 & \\frac{3}{2} & 0\\\\0 & 1 & - \\frac{1}{2} & 0\\\\0 & 0 & 0 & 1\\\\0 & 0 & 0 & 0\\end{matrix}\\right], \\quad \\left [ 0, \\quad 1, \\quad 3\\right ]\\right )$$"
      ],
      "text/plain": [
       "⎛⎡1  0  3/2   0⎤, [0, 1, 3]⎞\n",
       "⎜⎢             ⎥           ⎟\n",
       "⎜⎢0  1  -1/2  0⎥           ⎟\n",
       "⎜⎢             ⎥           ⎟\n",
       "⎜⎢0  0   0    1⎥           ⎟\n",
       "⎜⎢             ⎥           ⎟\n",
       "⎝⎣0  0   0    0⎦           ⎠"
      ]
     },
     "execution_count": 4,
     "metadata": {},
     "output_type": "execute_result"
    }
   ],
   "source": [
    "my_mat.rref()"
   ]
  },
  {
   "cell_type": "code",
   "execution_count": 7,
   "metadata": {
    "collapsed": false
   },
   "outputs": [
    {
     "name": "stdout",
     "output_type": "stream",
     "text": [
      "Starting MATLAB on ZMQ socket ipc:///tmp/pymatbridge-958acbc6-f303-4086-be04-5786d9e2b429\n",
      "Send 'exit' command to kill the server\n",
      ".........................MATLAB started and connected!\n"
     ]
    },
    {
     "name": "stderr",
     "output_type": "stream",
     "text": [
      "/home/dev/miniconda3/lib/python3.4/site-packages/IPython/nbformat.py:13: ShimWarning: The `IPython.nbformat` package has been deprecated. You should import from nbformat instead.\n",
      "  \"You should import from nbformat instead.\", ShimWarning)\n"
     ]
    }
   ],
   "source": [
    "%load_ext pymatbridge\n"
   ]
  },
  {
   "cell_type": "code",
   "execution_count": 10,
   "metadata": {
    "collapsed": false
   },
   "outputs": [
    {
     "data": {
      "text/plain": [
       "hello world"
      ]
     },
     "metadata": {},
     "output_type": "display_data"
    }
   ],
   "source": [
    "%%matlab\n",
    "fprintf('hello world')"
   ]
  },
  {
   "cell_type": "code",
   "execution_count": 33,
   "metadata": {
    "collapsed": false
   },
   "outputs": [
    {
     "name": "stdout",
     "output_type": "stream",
     "text": [
      "⎡1  1  1⎤\n",
      "⎢       ⎥\n",
      "⎢1  1  3⎥\n",
      "⎢       ⎥\n",
      "⎣2  3  4⎦\n",
      "⎡1⎤\n",
      "⎢ ⎥\n",
      "⎢1⎥\n",
      "⎢ ⎥\n",
      "⎣3⎦\n"
     ]
    }
   ],
   "source": [
    "testing_qtr = \"1 1 1 1 1 3 2 3 4\"\n",
    "starting = p(testing_qtr)\n",
    "right_side = starting.col(1)\n",
    "\n",
    "pprint(starting)\n",
    "pprint(right_side)"
   ]
  }
 ],
 "metadata": {
  "kernelspec": {
   "display_name": "Python 3",
   "language": "python",
   "name": "python3"
  },
  "language_info": {
   "codemirror_mode": {
    "name": "ipython",
    "version": 3
   },
   "file_extension": ".py",
   "mimetype": "text/x-python",
   "name": "python",
   "nbconvert_exporter": "python",
   "pygments_lexer": "ipython3",
   "version": "3.5.1"
  }
 },
 "nbformat": 4,
 "nbformat_minor": 0
}
