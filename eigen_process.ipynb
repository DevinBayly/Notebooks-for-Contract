{
 "cells": [
  {
   "cell_type": "code",
   "execution_count": 5,
   "metadata": {
    "collapsed": true
   },
   "outputs": [],
   "source": [
    "# %load RREF_real.py\n",
    "from __future__ import division\n",
    "import random as dom\n",
    "from RREF_real import *\n",
    "from sympy import *\n",
    "x, y, z, t = symbols('x y z t')\n",
    "k, m, n = symbols('k m n', integer=True)\n",
    "f, g, h = symbols('f g h', cls=Function)\n",
    "init_printing()\n",
    "import ipdb\n"
   ]
  },
  {
   "cell_type": "markdown",
   "metadata": {
    "variables": {
     "some_mtx": "$$\\left[\\begin{matrix}60 & 0 & 32 & 0\\\\0 & 0 & 17 & 0\\\\0 & 6 & 51 & 0\\\\0 & 0 & 0 & 0\\end{matrix}\\right]$$"
    }
   },
   "source": [
    "testing the special plugin here\n",
    "{{some_mtx}}"
   ]
  },
  {
   "cell_type": "code",
   "execution_count": 57,
   "metadata": {
    "collapsed": false,
    "scrolled": true
   },
   "outputs": [
    {
     "data": {
      "image/png": "[encoded data removed]",
      "text/latex": [
       "$$\\left[\\begin{matrix}0 & 0 & 0 & 0\\\\0 & 21 & 65 & 47\\\\0 & 73 & 0 & 84\\\\56 & 0 & 0 & 0\\end{matrix}\\right]$$"
      ],
      "text/plain": [
       "⎡0   0   0   0 ⎤\n",
       "⎢              ⎥\n",
       "⎢0   21  65  47⎥\n",
       "⎢              ⎥\n",
       "⎢0   73  0   84⎥\n",
       "⎢              ⎥\n",
       "⎣56  0   0   0 ⎦"
      ]
     },
     "execution_count": 57,
     "metadata": {},
     "output_type": "execute_result"
    }
   ],
   "source": [
    "some_mtx = Matrix(4,4,[dom.randrange(1,100) if dom.randrange(1,5) >2 else 0\n",
    "                       for i in range(16)])"
   ]
  },
  {
   "cell_type": "code",
   "execution_count": 45,
   "metadata": {
    "collapsed": false
   },
   "outputs": [
    {
     "data": {
      "image/png": "[encoded data removed]",
      "text/latex": [
       "$$\\left[\\begin{matrix}85 & 0 & 58 & 0 & 0 & 0 & 0 & 0\\\\0 & 86 & 63 & 52 & 0 & 0 & 0 & 0\\\\43 & 49 & 70 & 0 & 0 & 0 & 0 & 0\\\\0 & 0 & 0 & 0 & 0 & 0 & 0 & 0\\end{matrix}\\right]$$"
      ],
      "text/plain": [
       "⎡85  0   58  0   0  0  0  0⎤\n",
       "⎢                          ⎥\n",
       "⎢0   86  63  52  0  0  0  0⎥\n",
       "⎢                          ⎥\n",
       "⎢43  49  70  0   0  0  0  0⎥\n",
       "⎢                          ⎥\n",
       "⎣0   0   0   0   0  0  0  0⎦"
      ]
     },
     "execution_count": 45,
     "metadata": {},
     "output_type": "execute_result"
    }
   ],
   "source": [
    "add_prac = some_mtx.copy()\n",
    "add_prac.col_insert(add_prac.shape[1],zeros(4))"
   ]
  },
  {
   "cell_type": "markdown",
   "metadata": {},
   "source": [
    "creating tool to solve equations to yield eigen Vectors"
   ]
  },
  {
   "cell_type": "code",
   "execution_count": 65,
   "metadata": {
    "collapsed": true
   },
   "outputs": [
    {
     "name": "stdout",
     "output_type": "stream",
     "text": [
      "⎡14  0   0  0 ⎤\n",
      "⎢             ⎥\n",
      "⎢48  0   0  0 ⎥\n",
      "⎢             ⎥\n",
      "⎢0   90  0  0 ⎥\n",
      "⎢             ⎥\n",
      "⎣39  0   0  40⎦\n",
      "evaluating  0\n",
      "⎡⎡0⎤, ⎡0 ⎤⎤\n",
      "⎢⎢ ⎥  ⎢  ⎥⎥\n",
      "⎢⎢0⎥  ⎢0 ⎥⎥\n",
      "⎢⎢ ⎥  ⎢  ⎥⎥\n",
      "⎢⎢0⎥  ⎢-1⎥⎥\n",
      "⎢⎢ ⎥  ⎢  ⎥⎥\n",
      "⎣⎣0⎦  ⎣0 ⎦⎦\n",
      "evaluating  40\n",
      "⎡⎡0⎤⎤\n",
      "⎢⎢ ⎥⎥\n",
      "⎢⎢0⎥⎥\n",
      "⎢⎢ ⎥⎥\n",
      "⎢⎢0⎥⎥\n",
      "⎢⎢ ⎥⎥\n",
      "⎣⎣0⎦⎦\n",
      "evaluating  14\n",
      "⎡⎡-2/3 ⎤⎤\n",
      "⎢⎢     ⎥⎥\n",
      "⎢⎢-16/7⎥⎥\n",
      "⎢⎢     ⎥⎥\n",
      "⎢⎢-720 ⎥⎥\n",
      "⎢⎢─────⎥⎥\n",
      "⎢⎢  49 ⎥⎥\n",
      "⎢⎢     ⎥⎥\n",
      "⎣⎣  0  ⎦⎦\n",
      "⎡84  0   0   2 ⎤\n",
      "⎢              ⎥\n",
      "⎢0   0   0   0 ⎥\n",
      "⎢              ⎥\n",
      "⎢0   46  0   73⎥\n",
      "⎢              ⎥\n",
      "⎣0   12  15  46⎦\n",
      "evaluating  0\n",
      "⎡⎡-1/42⎤⎤\n",
      "⎢⎢     ⎥⎥\n",
      "⎢⎢-73  ⎥⎥\n",
      "⎢⎢──── ⎥⎥\n",
      "⎢⎢ 46  ⎥⎥\n",
      "⎢⎢     ⎥⎥\n",
      "⎢⎢-124 ⎥⎥\n",
      "⎢⎢─────⎥⎥\n",
      "⎢⎢  69 ⎥⎥\n",
      "⎢⎢     ⎥⎥\n",
      "⎣⎣  0  ⎦⎦\n",
      "evaluating  84\n",
      "⎡⎡0⎤, ⎡-1⎤, ⎡0 ⎤, ⎡0 ⎤⎤\n",
      "⎢⎢ ⎥  ⎢  ⎥  ⎢  ⎥  ⎢  ⎥⎥\n",
      "⎢⎢0⎥  ⎢0 ⎥  ⎢-1⎥  ⎢0 ⎥⎥\n",
      "⎢⎢ ⎥  ⎢  ⎥  ⎢  ⎥  ⎢  ⎥⎥\n",
      "⎢⎢0⎥  ⎢0 ⎥  ⎢0 ⎥  ⎢-1⎥⎥\n",
      "⎢⎢ ⎥  ⎢  ⎥  ⎢  ⎥  ⎢  ⎥⎥\n",
      "⎣⎣0⎦  ⎣0 ⎦  ⎣0 ⎦  ⎣0 ⎦⎦\n",
      "evaluating  46\n",
      "no eigen vectors for 46 eigen value\n",
      "None\n",
      "⎡0   0  0   0 ⎤\n",
      "⎢             ⎥\n",
      "⎢86  0  48  0 ⎥\n",
      "⎢             ⎥\n",
      "⎢0   0  70  31⎥\n",
      "⎢             ⎥\n",
      "⎣0   0  90  11⎦\n",
      "evaluating  0\n",
      "⎡⎡0⎤, ⎡0 ⎤, ⎡0 ⎤⎤\n",
      "⎢⎢ ⎥  ⎢  ⎥  ⎢  ⎥⎥\n",
      "⎢⎢0⎥  ⎢-1⎥  ⎢0 ⎥⎥\n",
      "⎢⎢ ⎥  ⎢  ⎥  ⎢  ⎥⎥\n",
      "⎢⎢0⎥  ⎢0 ⎥  ⎢-1⎥⎥\n",
      "⎢⎢ ⎥  ⎢  ⎥  ⎢  ⎥⎥\n",
      "⎣⎣0⎦  ⎣0 ⎦  ⎣0 ⎦⎦\n",
      "evaluating  11\n",
      "no eigen vectors for 11 eigen value\n",
      "None\n",
      "evaluating  70\n",
      "no eigen vectors for 70 eigen value\n",
      "None\n",
      "⎡39  0   0   44⎤\n",
      "⎢              ⎥\n",
      "⎢0   89  0   81⎥\n",
      "⎢              ⎥\n",
      "⎢61  0   61  0 ⎥\n",
      "⎢              ⎥\n",
      "⎣37  72  62  0 ⎦\n",
      "evaluating  0\n",
      "no eigen vectors for 0 eigen value\n",
      "None\n",
      "evaluating  89\n",
      "no eigen vectors for 89 eigen value\n",
      "None\n",
      "evaluating  61\n",
      "no eigen vectors for 61 eigen value\n",
      "None\n",
      "evaluating  39\n",
      "no eigen vectors for 39 eigen value\n",
      "None\n",
      "⎡17  0   0   0 ⎤\n",
      "⎢              ⎥\n",
      "⎢61  0   28  29⎥\n",
      "⎢              ⎥\n",
      "⎢0   4   25  29⎥\n",
      "⎢              ⎥\n",
      "⎣0   94  49  93⎦\n",
      "evaluating  0\n",
      "no eigen vectors for 0 eigen value\n",
      "None\n",
      "evaluating  17\n",
      "⎡⎡65513 ⎤⎤\n",
      "⎢⎢───── ⎥⎥\n",
      "⎢⎢33916 ⎥⎥\n",
      "⎢⎢      ⎥⎥\n",
      "⎢⎢ 813  ⎥⎥\n",
      "⎢⎢ ───  ⎥⎥\n",
      "⎢⎢ 556  ⎥⎥\n",
      "⎢⎢      ⎥⎥\n",
      "⎢⎢-1211 ⎥⎥\n",
      "⎢⎢──────⎥⎥\n",
      "⎢⎢ 278  ⎥⎥\n",
      "⎢⎢      ⎥⎥\n",
      "⎣⎣  0   ⎦⎦\n",
      "evaluating  93\n",
      "no eigen vectors for 93 eigen value\n",
      "None\n",
      "evaluating  25\n",
      "no eigen vectors for 25 eigen value\n",
      "None\n",
      "⎡94  0   0   0 ⎤\n",
      "⎢              ⎥\n",
      "⎢0   53  69  0 ⎥\n",
      "⎢              ⎥\n",
      "⎢0   12  93  60⎥\n",
      "⎢              ⎥\n",
      "⎣0   0   0   0 ⎦\n",
      "evaluating  0\n",
      "⎡⎡  0   ⎤⎤\n",
      "⎢⎢      ⎥⎥\n",
      "⎢⎢ 1380 ⎥⎥\n",
      "⎢⎢ ──── ⎥⎥\n",
      "⎢⎢ 1367 ⎥⎥\n",
      "⎢⎢      ⎥⎥\n",
      "⎢⎢-1060 ⎥⎥\n",
      "⎢⎢──────⎥⎥\n",
      "⎢⎢ 1367 ⎥⎥\n",
      "⎢⎢      ⎥⎥\n",
      "⎣⎣  0   ⎦⎦\n",
      "evaluating  93\n",
      "no eigen vectors for 93 eigen value\n",
      "None\n",
      "evaluating  53\n",
      "no eigen vectors for 53 eigen value\n",
      "None\n",
      "evaluating  94\n",
      "⎡⎡0⎤, ⎡-1⎤, ⎡0 ⎤, ⎡0 ⎤⎤\n",
      "⎢⎢ ⎥  ⎢  ⎥  ⎢  ⎥  ⎢  ⎥⎥\n",
      "⎢⎢0⎥  ⎢0 ⎥  ⎢-1⎥  ⎢0 ⎥⎥\n",
      "⎢⎢ ⎥  ⎢  ⎥  ⎢  ⎥  ⎢  ⎥⎥\n",
      "⎢⎢0⎥  ⎢0 ⎥  ⎢0 ⎥  ⎢-1⎥⎥\n",
      "⎢⎢ ⎥  ⎢  ⎥  ⎢  ⎥  ⎢  ⎥⎥\n",
      "⎣⎣0⎦  ⎣0 ⎦  ⎣0 ⎦  ⎣0 ⎦⎦\n",
      "⎡0  66  0   0 ⎤\n",
      "⎢             ⎥\n",
      "⎢0  0   0   0 ⎥\n",
      "⎢             ⎥\n",
      "⎢0  21  35  18⎥\n",
      "⎢             ⎥\n",
      "⎣0  0   90  0 ⎦\n",
      "evaluating  0\n",
      "⎡⎡0⎤, ⎡-1⎤, ⎡0 ⎤, ⎡0 ⎤⎤\n",
      "⎢⎢ ⎥  ⎢  ⎥  ⎢  ⎥  ⎢  ⎥⎥\n",
      "⎢⎢0⎥  ⎢0 ⎥  ⎢-1⎥  ⎢0 ⎥⎥\n",
      "⎢⎢ ⎥  ⎢  ⎥  ⎢  ⎥  ⎢  ⎥⎥\n",
      "⎢⎢0⎥  ⎢0 ⎥  ⎢0 ⎥  ⎢-1⎥⎥\n",
      "⎢⎢ ⎥  ⎢  ⎥  ⎢  ⎥  ⎢  ⎥⎥\n",
      "⎣⎣0⎦  ⎣0 ⎦  ⎣0 ⎦  ⎣0 ⎦⎦\n",
      "evaluating  35\n",
      "no eigen vectors for 35 eigen value\n",
      "None\n",
      "⎡0   82  36  0 ⎤\n",
      "⎢              ⎥\n",
      "⎢69  0   0   39⎥\n",
      "⎢              ⎥\n",
      "⎢0   76  16  0 ⎥\n",
      "⎢              ⎥\n",
      "⎣8   0   50  11⎦\n",
      "evaluating  0\n",
      "no eigen vectors for 0 eigen value\n",
      "None\n",
      "evaluating  16\n",
      "no eigen vectors for 16 eigen value\n",
      "None\n",
      "evaluating  11\n",
      "no eigen vectors for 11 eigen value\n",
      "None\n",
      "⎡0  44  26  66⎤\n",
      "⎢             ⎥\n",
      "⎢0  0   53  61⎥\n",
      "⎢             ⎥\n",
      "⎢0  0   18  62⎥\n",
      "⎢             ⎥\n",
      "⎣0  0   11  8 ⎦\n",
      "evaluating  0\n",
      "⎡⎡0⎤, ⎡-1⎤, ⎡0 ⎤, ⎡0 ⎤⎤\n",
      "⎢⎢ ⎥  ⎢  ⎥  ⎢  ⎥  ⎢  ⎥⎥\n",
      "⎢⎢0⎥  ⎢0 ⎥  ⎢-1⎥  ⎢0 ⎥⎥\n",
      "⎢⎢ ⎥  ⎢  ⎥  ⎢  ⎥  ⎢  ⎥⎥\n",
      "⎢⎢0⎥  ⎢0 ⎥  ⎢0 ⎥  ⎢-1⎥⎥\n",
      "⎢⎢ ⎥  ⎢  ⎥  ⎢  ⎥  ⎢  ⎥⎥\n",
      "⎣⎣0⎦  ⎣0 ⎦  ⎣0 ⎦  ⎣0 ⎦⎦\n",
      "evaluating  8\n",
      "no eigen vectors for 8 eigen value\n",
      "None\n",
      "evaluating  18\n",
      "no eigen vectors for 18 eigen value\n",
      "None\n",
      "⎡0   0   61  94⎤\n",
      "⎢              ⎥\n",
      "⎢33  14  0   0 ⎥\n",
      "⎢              ⎥\n",
      "⎢0   52  19  0 ⎥\n",
      "⎢              ⎥\n",
      "⎣46  7   33  0 ⎦\n",
      "evaluating  0\n",
      "no eigen vectors for 0 eigen value\n",
      "None\n",
      "evaluating  19\n",
      "no eigen vectors for 19 eigen value\n",
      "None\n",
      "evaluating  14\n",
      "no eigen vectors for 14 eigen value\n",
      "None\n"
     ]
    }
   ],
   "source": [
    "### need to write some code that can put together a column vector as a solution to the ax=b eqn\n",
    "### setting\n",
    "def calc_eig_val(mtx):\n",
    "    grab_diag = lambda A: [A[i,i] for i in range(A.shape[0])]\n",
    "    lambs = list(set(grab_diag(mtx))) \n",
    "    return lambs\n",
    "    \n",
    "def calc_eig_vec(mtx,eig_val):\n",
    "    mtx = mtx-eye(mtx.shape[0])*eig_val\n",
    "    aug_mtx = mtx.col_insert(mtx.shape[1],zeros(mtx.shape[0],1)) # all the shape business is just retrieving information that is stored about the actual object so this can scale\n",
    "    reduced_aug = shortEF(aug_mtx)\n",
    "    result = parameterize(aug_mtx)\n",
    "    if not result: #meaning if parameterize is empty of result\n",
    "        print('no eigen vectors for {} eigen value'.format(eig_val))\n",
    "        return None\n",
    "    return result\n",
    "\n",
    "for turn in range(10):\n",
    "    some_mtx = Matrix(4,4,[dom.randrange(1,100) if dom.randrange(1,5) >2 else 0\n",
    "                           for i in range(16)])\n",
    "    pprint(some_mtx)\n",
    "    for val in calc_eig_val(some_mtx):\n",
    "        print('evaluating ',val)\n",
    "        pprint(calc_eig_vec(some_mtx,val))\n",
    "\n",
    "\n",
    "\n",
    "    \n",
    "    \n"
   ]
  },
  {
   "cell_type": "code",
   "execution_count": 35,
   "metadata": {
    "collapsed": false
   },
   "outputs": [
    {
     "data": {
      "image/png": "[encoded data removed]",
      "text/latex": [
       "$$\\left[\\begin{matrix}1 & 0 & 0 & \\frac{147784}{34821}\\\\0 & 1 & 0 & \\frac{19968}{3869}\\\\0 & 0 & 1 & - \\frac{216580}{34821}\\\\0 & 0 & 0 & 0\\end{matrix}\\right]$$"
      ],
      "text/plain": [
       "⎡          147784 ⎤\n",
       "⎢1  0  0   ────── ⎥\n",
       "⎢          34821  ⎥\n",
       "⎢                 ⎥\n",
       "⎢          19968  ⎥\n",
       "⎢0  1  0   ─────  ⎥\n",
       "⎢           3869  ⎥\n",
       "⎢                 ⎥\n",
       "⎢         -216580 ⎥\n",
       "⎢0  0  1  ────────⎥\n",
       "⎢          34821  ⎥\n",
       "⎢                 ⎥\n",
       "⎣0  0  0     0    ⎦"
      ]
     },
     "execution_count": 35,
     "metadata": {},
     "output_type": "execute_result"
    }
   ],
   "source": [
    "shortEF(some_mtx)"
   ]
  },
  {
   "cell_type": "code",
   "execution_count": 61,
   "metadata": {
    "collapsed": false
   },
   "outputs": [
    {
     "data": {
      "image/png": "[encoded data removed]",
      "text/latex": [
       "$$\\left [ \\right ]$$"
      ],
      "text/plain": [
       "[]"
      ]
     },
     "execution_count": 61,
     "metadata": {},
     "output_type": "execute_result"
    }
   ],
   "source": [
    "parameterize(some_mtx)"
   ]
  },
  {
   "cell_type": "code",
   "execution_count": 47,
   "metadata": {
    "collapsed": false
   },
   "outputs": [],
   "source": [
    "def parameterize(mtx):\n",
    "    ret_list=[]\n",
    "    for i in range(mtx.shape[0]):\n",
    "        if mtx[i,i] != 1: #i here is just checking for presence of pivot positions\n",
    "            if i != mtx.shape[0]:\n",
    "                ret_list.append(-1*mtx[:,i])\n",
    "            else:\n",
    "                ret_list.append(mtx[:,i])\n",
    "                \n",
    "    return ret_list\n"
   ]
  }
 ],
 "metadata": {
  "kernelspec": {
   "display_name": "Python 3",
   "language": "python",
   "name": "python3"
  },
  "language_info": {
   "codemirror_mode": {
    "name": "ipython",
    "version": 3
   },
   "file_extension": ".py",
   "mimetype": "text/x-python",
   "name": "python",
   "nbconvert_exporter": "python",
   "pygments_lexer": "ipython3",
   "version": "3.5.1"
  }
 },
 "nbformat": 4,
 "nbformat_minor": 0
}
