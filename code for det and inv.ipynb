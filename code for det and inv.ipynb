{
 "cells": [
  {
   "cell_type": "code",
   "execution_count": 1,
   "metadata": {
    "collapsed": false
   },
   "outputs": [
    {
     "name": "stdout",
     "output_type": "stream",
     "text": [
      "IPython console for SymPy 0.7.6.1 (Python 3.4.4-64-bit) (ground types: python)\n",
      "\n",
      "These commands were executed:\n",
      ">>> from __future__ import division\n",
      ">>> from sympy import *\n",
      ">>> x, y, z, t = symbols('x y z t')\n",
      ">>> k, m, n = symbols('k m n', integer=True)\n",
      ">>> f, g, h = symbols('f g h', cls=Function)\n",
      ">>> init_printing()\n",
      "\n",
      "Documentation can be found at http://www.sympy.org\n"
     ]
    }
   ],
   "source": [
    "from sympy import init_session\n",
    "init_session()\n",
    "import random,numpy"
   ]
  },
  {
   "cell_type": "code",
   "execution_count": 2,
   "metadata": {
    "collapsed": false,
    "scrolled": true
   },
   "outputs": [
    {
     "name": "stdout",
     "output_type": "stream",
     "text": [
      "⎡61  30  35  0 ⎤\n",
      "⎢              ⎥\n",
      "⎢85  89  82  38⎥\n",
      "⎢              ⎥\n",
      "⎢74  44  52  53⎥\n",
      "⎢              ⎥\n",
      "⎣13  63  18  16⎦\n"
     ]
    }
   ],
   "source": [
    "my_mat = Matrix(4,4,[random.randrange(100) for i in range(16)])\n",
    "pprint(my_mat)"
   ]
  },
  {
   "cell_type": "markdown",
   "metadata": {},
   "source": [
    "### Here is the helper function for the determinant function\n",
    "takes a \n"
   ]
  },
  {
   "cell_type": "code",
   "execution_count": 3,
   "metadata": {
    "collapsed": false
   },
   "outputs": [
    {
     "data": {
      "image/png": "[encoded data removed]",
      "text/latex": [
       "$$\\left[\\begin{matrix}85 & 82 & 38\\\\74 & 52 & 53\\\\13 & 18 & 16\\end{matrix}\\right]$$"
      ],
      "text/plain": [
       "⎡85  82  38⎤\n",
       "⎢          ⎥\n",
       "⎢74  52  53⎥\n",
       "⎢          ⎥\n",
       "⎣13  18  16⎦"
      ]
     },
     "execution_count": 3,
     "metadata": {},
     "output_type": "execute_result"
    }
   ],
   "source": [
    "def split_mtx(mtx,row,col):\n",
    "    mtx.row_del(row)\n",
    "    mtx.col_del(col)\n",
    "    return mtx\n",
    "\n",
    "split_mtx(my_mat.copy(),0,1)"
   ]
  },
  {
   "cell_type": "code",
   "execution_count": 4,
   "metadata": {
    "collapsed": false
   },
   "outputs": [
    {
     "name": "stdout",
     "output_type": "stream",
     "text": [
      "stripping\n",
      "⎡61  30  35  0 ⎤\n",
      "⎢              ⎥\n",
      "⎢85  89  82  38⎥\n",
      "⎢              ⎥\n",
      "⎢74  44  52  53⎥\n",
      "⎢              ⎥\n",
      "⎣13  63  18  16⎦\n",
      "stripping\n",
      "⎡89  82  38⎤\n",
      "⎢          ⎥\n",
      "⎢44  52  53⎥\n",
      "⎢          ⎥\n",
      "⎣63  18  16⎦\n",
      "stripping\n",
      "⎡52  53⎤\n",
      "⎢      ⎥\n",
      "⎣18  16⎦\n",
      "bottom of recurse\n",
      "[16]\n",
      "bottom of recurse\n",
      "[18]\n",
      "stripping\n",
      "⎡44  53⎤\n",
      "⎢      ⎥\n",
      "⎣63  16⎦\n",
      "bottom of recurse\n",
      "[16]\n",
      "bottom of recurse\n",
      "[63]\n",
      "stripping\n",
      "⎡44  52⎤\n",
      "⎢      ⎥\n",
      "⎣63  18⎦\n",
      "bottom of recurse\n",
      "[18]\n",
      "bottom of recurse\n",
      "[63]\n",
      "stripping\n",
      "⎡85  82  38⎤\n",
      "⎢          ⎥\n",
      "⎢74  52  53⎥\n",
      "⎢          ⎥\n",
      "⎣13  18  16⎦\n",
      "stripping\n",
      "⎡52  53⎤\n",
      "⎢      ⎥\n",
      "⎣18  16⎦\n",
      "bottom of recurse\n",
      "[16]\n",
      "bottom of recurse\n",
      "[18]\n",
      "stripping\n",
      "⎡74  53⎤\n",
      "⎢      ⎥\n",
      "⎣13  16⎦\n",
      "bottom of recurse\n",
      "[16]\n",
      "bottom of recurse\n",
      "[13]\n",
      "stripping\n",
      "⎡74  52⎤\n",
      "⎢      ⎥\n",
      "⎣13  18⎦\n",
      "bottom of recurse\n",
      "[18]\n",
      "bottom of recurse\n",
      "[13]\n",
      "stripping\n",
      "⎡85  89  38⎤\n",
      "⎢          ⎥\n",
      "⎢74  44  53⎥\n",
      "⎢          ⎥\n",
      "⎣13  63  16⎦\n",
      "stripping\n",
      "⎡44  53⎤\n",
      "⎢      ⎥\n",
      "⎣63  16⎦\n",
      "bottom of recurse\n",
      "[16]\n",
      "bottom of recurse\n",
      "[63]\n",
      "stripping\n",
      "⎡74  53⎤\n",
      "⎢      ⎥\n",
      "⎣13  16⎦\n",
      "bottom of recurse\n",
      "[16]\n",
      "bottom of recurse\n",
      "[13]\n",
      "stripping\n",
      "⎡74  44⎤\n",
      "⎢      ⎥\n",
      "⎣13  63⎦\n",
      "bottom of recurse\n",
      "[63]\n",
      "bottom of recurse\n",
      "[13]\n",
      "stripping\n",
      "⎡85  89  82⎤\n",
      "⎢          ⎥\n",
      "⎢74  44  52⎥\n",
      "⎢          ⎥\n",
      "⎣13  63  18⎦\n",
      "stripping\n",
      "⎡44  52⎤\n",
      "⎢      ⎥\n",
      "⎣63  18⎦\n",
      "bottom of recurse\n",
      "[18]\n",
      "bottom of recurse\n",
      "[63]\n",
      "stripping\n",
      "⎡74  52⎤\n",
      "⎢      ⎥\n",
      "⎣13  18⎦\n",
      "bottom of recurse\n",
      "[18]\n",
      "bottom of recurse\n",
      "[13]\n",
      "stripping\n",
      "⎡74  44⎤\n",
      "⎢      ⎥\n",
      "⎣13  63⎦\n",
      "bottom of recurse\n",
      "[63]\n",
      "bottom of recurse\n",
      "[13]\n",
      "3599630\n",
      "3599630\n"
     ]
    }
   ],
   "source": [
    "def recurse_det(mtx):\n",
    "    if len(mtx) == 1:\n",
    "        print(\"bottom of recurse\")\n",
    "        pprint(mtx)\n",
    "        return mtx[0] \n",
    "    else:\n",
    "        pprint(mtx)\n",
    "        return sum([mtx[0,j]*recurse_det(split_mtx(mtx.copy(),0,j)) if j%2 == 0 else\n",
    "                    -mtx[0,j]*recurse_det(split_mtx(mtx.copy(),0,j))\n",
    "                    for j in range(mtx.cols)])\n",
    "    \n",
    "print(recurse_det(my_mat))\n",
    "print(my_mat.det())\n"
   ]
  },
  {
   "cell_type": "code",
   "execution_count": null,
   "metadata": {
    "collapsed": true
   },
   "outputs": [],
   "source": [
    "\n",
    "def recurse_det_print(mtx):\n",
    "    if len(mtx) == 1:\n",
    "        print(\"bottom of recurse\")\n",
    "        pprint(mtx)\n",
    "        return mtx \n",
    "    else:\n",
    "        print(\"stripping\")\n",
    "        pprint(mtx)\n",
    "        return sum([mtx[0,i]*recurse_det(split_mtx(mtx.copy(),0,i))[0] if i%2 == 0 else\n",
    "                    -mtx[0,i]*recurse_det(split_mtx(mtx.copy(),0,i))[0]\n",
    "                    for i in range(mtx.cols)])\n",
    "    "
   ]
  },
  {
   "cell_type": "code",
   "execution_count": null,
   "metadata": {
    "collapsed": false
   },
   "outputs": [
    {
     "name": "stdout",
     "output_type": "stream",
     "text": [
      "> \u001b[1;32m<ipython-input-20-68567a551b83>\u001b[0m(18)\u001b[0;36m<listcomp>\u001b[1;34m()\u001b[0m\n",
      "\u001b[1;32m     16 \u001b[1;33m        return sum([mtx[0,i]*recurse_det(split_mtx(mtx.copy(),0,i))[0] if i%2 == 0 else\n",
      "\u001b[0m\u001b[1;32m     17 \u001b[1;33m                    \u001b[1;33m-\u001b[0m\u001b[0mmtx\u001b[0m\u001b[1;33m[\u001b[0m\u001b[1;36m0\u001b[0m\u001b[1;33m,\u001b[0m\u001b[0mi\u001b[0m\u001b[1;33m]\u001b[0m\u001b[1;33m*\u001b[0m\u001b[0mrecurse_det\u001b[0m\u001b[1;33m(\u001b[0m\u001b[0msplit_mtx\u001b[0m\u001b[1;33m(\u001b[0m\u001b[0mmtx\u001b[0m\u001b[1;33m.\u001b[0m\u001b[0mcopy\u001b[0m\u001b[1;33m(\u001b[0m\u001b[1;33m)\u001b[0m\u001b[1;33m,\u001b[0m\u001b[1;36m0\u001b[0m\u001b[1;33m,\u001b[0m\u001b[0mi\u001b[0m\u001b[1;33m)\u001b[0m\u001b[1;33m)\u001b[0m\u001b[1;33m[\u001b[0m\u001b[1;36m0\u001b[0m\u001b[1;33m]\u001b[0m\u001b[1;33m\u001b[0m\u001b[0m\n",
      "\u001b[0m\u001b[1;32m---> 18 \u001b[1;33m                    for i in range(mtx.cols)])\n",
      "\u001b[0m\u001b[1;32m     19 \u001b[1;33m\u001b[1;33m\u001b[0m\u001b[0m\n",
      "\u001b[0m\u001b[1;32m     20 \u001b[1;33m\u001b[0mrecurse_det\u001b[0m\u001b[1;33m(\u001b[0m\u001b[0mmy_mat\u001b[0m\u001b[1;33m)\u001b[0m\u001b[1;33m\u001b[0m\u001b[0m\n",
      "\u001b[0m\n",
      "ipdb> mtx\n",
      "Matrix([\n",
      "[66, 92, 93],\n",
      "[30, 28, 22],\n",
      "[26, 89, 86]])\n",
      "ipdb> mtx.cols\n",
      "3\n",
      "ipdb> i\n",
      "0\n"
     ]
    }
   ],
   "source": [
    "%debug"
   ]
  },
  {
   "cell_type": "code",
   "execution_count": 9,
   "metadata": {
    "collapsed": false
   },
   "outputs": [],
   "source": [
    "my_mat = Matrix(4,4,[random.randrange(100) if random.randrange(5) > 1 else 0 for i in range(16)])\n",
    "\n",
    "\n",
    "def add_to_mtx(original,addition):\n",
    "    for col in range(addition.shape[1]):\n",
    "        original = original.col_insert(original.cols,addition[:,col])\n",
    "    return original\n",
    "\n",
    "\n",
    "def calculate_inverse(mtx):\n",
    "    row,col = mtx.shape\n",
    "    if row != col:\n",
    "        print('not invertible')\n",
    "        return mtx\n",
    "    else:\n",
    "        extended_mtx = add_to_mtx(mtx,eye(mtx.shape[0]))\n",
    "        inv = RREF_real.shortEF(extended_mtx)[:,mtx.shape[1]:]\n",
    "        return inv\n",
    "inv = calculate_inverse(my_mat)"
   ]
  },
  {
   "cell_type": "code",
   "execution_count": 10,
   "metadata": {
    "collapsed": false
   },
   "outputs": [
    {
     "name": "stdout",
     "output_type": "stream",
     "text": [
      "⎡42  0   83  0 ⎤\n",
      "⎢              ⎥\n",
      "⎢52  0   0   67⎥\n",
      "⎢              ⎥\n",
      "⎢21  95  6   18⎥\n",
      "⎢              ⎥\n",
      "⎣82  50  34  50⎦\n",
      "⎡-19631   -31955   -27805    105659 ⎤\n",
      "⎢───────  ───────  ───────  ─────── ⎥\n",
      "⎢1261952  1261952  1261952  2523904 ⎥\n",
      "⎢                                   ⎥\n",
      "⎢ -135    -11127    72263   -22209  ⎥\n",
      "⎢───────  ───────  ───────  ────────⎥\n",
      "⎢1261952  6309760  6309760  12619520⎥\n",
      "⎢                                   ⎥\n",
      "⎢12569     8085     7035    -26733  ⎥\n",
      "⎢──────   ──────   ──────   ─────── ⎥\n",
      "⎢630976   630976   630976   1261952 ⎥\n",
      "⎢                                   ⎥\n",
      "⎢ 3809    10909     5395    -20501  ⎥\n",
      "⎢──────   ──────   ──────   ─────── ⎥\n",
      "⎣315488   315488   315488    630976 ⎦\n",
      "⎡1  0  0  0⎤\n",
      "⎢          ⎥\n",
      "⎢0  1  0  0⎥\n",
      "⎢          ⎥\n",
      "⎢0  0  1  0⎥\n",
      "⎢          ⎥\n",
      "⎣0  0  0  1⎦\n"
     ]
    }
   ],
   "source": [
    "pprint(my_mat)\n",
    "pprint(inv)\n",
    "pprint(my_mat*inv)"
   ]
  },
  {
   "cell_type": "code",
   "execution_count": 16,
   "metadata": {
    "collapsed": false
   },
   "outputs": [
    {
     "data": {
      "image/png": "[encoded data removed]",
      "text/latex": [
       "$$\\left[\\begin{matrix}2.0\\\\7.0\\end{matrix}\\right]$$"
      ],
      "text/plain": [
       "⎡2.0⎤\n",
       "⎢   ⎥\n",
       "⎣7.0⎦"
      ]
     },
     "execution_count": 16,
     "metadata": {},
     "output_type": "execute_result"
    }
   ],
   "source": [
    "Matrix([[1,2],[4,3]])*Matrix([[8/5],[1/5]])"
   ]
  },
  {
   "cell_type": "code",
   "execution_count": 6,
   "metadata": {
    "collapsed": false
   },
   "outputs": [],
   "source": [
    "import RREF_real\n"
   ]
  }
 ],
 "metadata": {
  "kernelspec": {
   "display_name": "Python 3",
   "language": "python",
   "name": "python3"
  },
  "language_info": {
   "codemirror_mode": {
    "name": "ipython",
    "version": 3
   },
   "file_extension": ".py",
   "mimetype": "text/x-python",
   "name": "python",
   "nbconvert_exporter": "python",
   "pygments_lexer": "ipython3",
   "version": "3.4.4"
  }
 },
 "nbformat": 4,
 "nbformat_minor": 0
}
