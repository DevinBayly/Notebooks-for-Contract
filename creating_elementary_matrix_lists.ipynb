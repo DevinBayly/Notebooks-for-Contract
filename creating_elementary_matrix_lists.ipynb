{
 "cells": [
  {
   "cell_type": "markdown",
   "metadata": {},
   "source": [
    "# Elementary Matrix Notebook\n",
    "\n",
    "This notebook serves to generate examples of what elementary matrices are, and how we can generate them with code\n",
    "\n",
    "The cell beneath this will give several examples of what an elementary matrix actually is"
   ]
  },
  {
   "cell_type": "markdown",
   "metadata": {},
   "source": [
    "## Examples of Elementary Matrices\n",
    "\n",
    "These matrices consist of square invertible matrices and appear in one of three different varieties.\n",
    "\n",
    "For comparison, please refer to the identity matrix."
   ]
  },
  {
   "cell_type": "code",
   "execution_count": 15,
   "metadata": {
    "collapsed": false
   },
   "outputs": [
    {
     "data": {
      "image/png": "[encoded data removed]",
      "text/latex": [
       "$$\\left[\\begin{matrix}1 & 0 & 0\\\\0 & 1 & 0\\\\0 & 0 & 1\\end{matrix}\\right]$$"
      ],
      "text/plain": [
       "⎡1  0  0⎤\n",
       "⎢       ⎥\n",
       "⎢0  1  0⎥\n",
       "⎢       ⎥\n",
       "⎣0  0  1⎦"
      ]
     },
     "execution_count": 15,
     "metadata": {},
     "output_type": "execute_result"
    }
   ],
   "source": [
    "eye(3)"
   ]
  },
  {
   "cell_type": "markdown",
   "metadata": {},
   "source": [
    "### First example:\n",
    "This matrix represents the row operation of swapping the position of two rows belonging to some matrix multiplied by this elementary matrix\n",
    "\n",
    "This matrix will swap the second and third rows of any '3xm matrix' \n",
    "    "
   ]
  },
  {
   "cell_type": "code",
   "execution_count": 21,
   "metadata": {
    "collapsed": false
   },
   "outputs": [
    {
     "name": "stdout",
     "output_type": "stream",
     "text": [
      "⎡1  0  0⎤\n",
      "⎢       ⎥\n",
      "⎢0  0  1⎥\n",
      "⎢       ⎥\n",
      "⎣0  1  0⎦\n",
      "⎡5  0   1⎤\n",
      "⎢        ⎥\n",
      "⎢4  22  1⎥\n",
      "⎢        ⎥\n",
      "⎣3  1   3⎦\n",
      "⎡5  0   1⎤\n",
      "⎢        ⎥\n",
      "⎢3  1   3⎥\n",
      "⎢        ⎥\n",
      "⎣4  22  1⎦\n"
     ]
    }
   ],
   "source": [
    "pprint(Matrix([[1,0,0],[0,0,1],[0,1,0]]))\n",
    "pprint(Matrix([[5,0,1],[4,22,1],[3,1,3]]))\n",
    "pprint(Matrix([[1,0,0],[0,0,1],[0,1,0]])*Matrix([[5,0,1],[4,22,1],[3,1,3]]))"
   ]
  },
  {
   "cell_type": "markdown",
   "metadata": {},
   "source": [
    "### Second example:\n",
    "\n",
    "This matrix represents the row operation of multiplying a row of another matrix by a scalar multiple.\n",
    "\n",
    "Here is one example of what this elementary matrix might look like."
   ]
  },
  {
   "cell_type": "code",
   "execution_count": 24,
   "metadata": {
    "collapsed": false
   },
   "outputs": [
    {
     "name": "stdout",
     "output_type": "stream",
     "text": [
      "⎡-10  0  0⎤\n",
      "⎢         ⎥\n",
      "⎢ 0   1  0⎥\n",
      "⎢         ⎥\n",
      "⎣ 0   0  1⎦\n",
      "⎡5  0   1⎤\n",
      "⎢        ⎥\n",
      "⎢4  22  1⎥\n",
      "⎢        ⎥\n",
      "⎣3  1   3⎦\n",
      "⎡-50  0   -10⎤\n",
      "⎢            ⎥\n",
      "⎢ 4   22   1 ⎥\n",
      "⎢            ⎥\n",
      "⎣ 3   1    3 ⎦\n"
     ]
    }
   ],
   "source": [
    "pprint(Matrix([[-10,0,0],[0,1,0],[0,0,1]]))\n",
    "pprint(Matrix([[5,0,1],[4,22,1],[3,1,3]]))\n",
    "pprint(Matrix([[-10,0,0],[0,1,0],[0,0,1]])*Matrix([[5,0,1],[4,22,1],[3,1,3]]))"
   ]
  },
  {
   "cell_type": "markdown",
   "metadata": {},
   "source": [
    "### Third Example\n",
    "\n",
    "This one is my favorite, it is an elementary matrix that transforms another matrix by adding a multiple of one row to another.\n",
    "\n",
    "How cool is that?\n",
    "\n",
    "\n",
    "It is a little tricky to explain what is happening though. If my elementary matrix has more than just a one in the row then imagine the values in those positions as being instructions about how what multiple of another row to add to the current one.\n",
    "\n",
    "For example if our first row contains a -7 in the third column, those instructions are to add -7 times the third row to the first. See this in action below."
   ]
  },
  {
   "cell_type": "code",
   "execution_count": 26,
   "metadata": {
    "collapsed": false
   },
   "outputs": [
    {
     "name": "stdout",
     "output_type": "stream",
     "text": [
      "⎡1  0  -7⎤\n",
      "⎢        ⎥\n",
      "⎢0  1  0 ⎥\n",
      "⎢        ⎥\n",
      "⎣0  0  1 ⎦\n",
      "⎡5  0   1⎤\n",
      "⎢        ⎥\n",
      "⎢4  22  1⎥\n",
      "⎢        ⎥\n",
      "⎣3  1   3⎦\n",
      "⎡-16  -7  -20⎤\n",
      "⎢            ⎥\n",
      "⎢ 4   22   1 ⎥\n",
      "⎢            ⎥\n",
      "⎣ 3   1    3 ⎦\n"
     ]
    }
   ],
   "source": [
    "pprint(Matrix([[1,0,-7],[0,1,0],[0,0,1]]))\n",
    "pprint(Matrix([[5,0,1],[4,22,1],[3,1,3]]))\n",
    "pprint(Matrix([[1,0,-7],[0,1,0],[0,0,1]])*Matrix([[5,0,1],[4,22,1],[3,1,3]]))"
   ]
  },
  {
   "cell_type": "markdown",
   "metadata": {},
   "source": [
    "## Getting started\n",
    "\n",
    "Now that a foundational understanding of elementary matrices has been\n",
    "\n",
    "first we must load the required backup packages"
   ]
  },
  {
   "cell_type": "code",
   "execution_count": 1,
   "metadata": {
    "collapsed": false
   },
   "outputs": [
    {
     "name": "stdout",
     "output_type": "stream",
     "text": [
      "Using matplotlib backend: Qt4Agg\n"
     ]
    }
   ],
   "source": [
    "# %load './RREF_real.py'\n",
    "%matplotlib\n",
    "from __future__ import division\n",
    "import random\n",
    "from sympy import *\n",
    "x, y, z, t = symbols('x y z t')\n",
    "k, m, n = symbols('k m n', integer=True)\n",
    "f, g, h = symbols('f g h', cls=Function)\n",
    "init_printing()"
   ]
  },
  {
   "cell_type": "markdown",
   "metadata": {},
   "source": [
    "## Loading the previous RREF Script\n",
    "\n",
    "The best way to explain what an elementary matrix is comes from using the RREF algorithm that was created in one of the other notebooks\n",
    "\n",
    "Essentially we will only be extending this previous set of functions with a way of tracking the row operations in the form of a number of elementary matrices"
   ]
  },
  {
   "cell_type": "code",
   "execution_count": 5,
   "metadata": {
    "collapsed": false
   },
   "outputs": [],
   "source": [
    "import ipdb\n",
    "row_op_storage = [eye(trbl_mkr.shape[0])]\n",
    "def rolling_rep(mtx,row_starting):\n",
    "    global row_op_storage\n",
    "    rep_row = mtx[row_starting,:]\n",
    "    ret_mat = mtx.copy()\n",
    "    ret_mat.row_del(row_starting)\n",
    "    return ret_mat.row_insert(ret_mat.rows,rep_row)\n",
    "\n",
    "def target_swap(mtx,row,lst):\n",
    "    global row_op_storage\n",
    "    ret_mtx = mtx.copy()\n",
    "    rep_ind = find_nonzero_ind(lst,row)\n",
    "    stor_rep_row = eye(trbl_mkr.shape[0])[rep_ind,:] # means take the most recent stored mtx and grab the row from it\n",
    "    tmp_mtx = eye(trbl_mkr.shape[0]).copy()\n",
    "    tmp_mtx[rep_ind,:] = eye(trbl_mkr.shape[0])[row,:]\n",
    "    tmp_mtx[row,:] = stor_rep_row\n",
    "    row_op_storage.append(tmp_mtx)\n",
    "    if rep_ind:\n",
    "        rep_row = ret_mtx[rep_ind,:]\n",
    "        ret_mtx[rep_ind,:] = ret_mtx[row,:]\n",
    "        ret_mtx[row,:] =rep_row\n",
    "        return ret_mtx\n",
    "    return False\n",
    "\n",
    "def find_nonzero_ind(lst,row,backwards=False):\n",
    "    global row_op_storage\n",
    "    if backwards:\n",
    "        lst_to_bool = [x == 0 if i < row else True for i,x in enumerate(lst)]\n",
    "    else:\n",
    "        lst_to_bool = [x == 0 if i > row else True for i,x in enumerate(lst)]\n",
    "    if False not in lst_to_bool:\n",
    "        return False\n",
    "    return lst_to_bool.index(False)\n",
    "\n",
    "def add_mult_row(mtx,piv_row,other):\n",
    "    global row_op_storage\n",
    "    return solve(piv_row*x+ other,x)[0]\n",
    "\n",
    "\n",
    "\n",
    "def shortEF(mtx):\n",
    "    global row_op_storage\n",
    "    pivots = []\n",
    "    cop = mtx.copy()\n",
    "    row,col = 0,0\n",
    "    try_cap = cop.rows + 30\n",
    "    while row < cop.rows and col < cop.cols: #took off -1 from cop.rows mighthave broken stuff\n",
    "        col_list = list(cop[:,col])\n",
    "        if try_cap < 0:\n",
    "            return (row,col)\n",
    "        if col_list.count(0) == cop.rows or col_list[row:].count(0) > cop.rows -1 -row:\n",
    "            col +=1\n",
    "            continue\n",
    "        if cop[row,col] == 0 :\n",
    "                #cop = rolling_rep(cop,row)\n",
    "                cop = target_swap(cop,row,col_list)\n",
    "                try_cap -=1\n",
    "                continue\n",
    "        if col_list[row:].count(0) == cop.rows -1 -row:\n",
    "            pivots.append((row,col))\n",
    "            col +=1\n",
    "            row +=1\n",
    "            continue\n",
    "        else:\n",
    "            \n",
    "            rep_ind = find_nonzero_ind(col_list,row) #makes sure to not include the potential pivot row in the search but keeps the indexing constant with mtx\n",
    "            multiple_factor = add_mult_row(cop,cop[row,col],cop[rep_ind,col])\n",
    "            cop[rep_ind,:] += cop[row,:]*multiple_factor\n",
    "            tmp_mtx = eye(trbl_mkr.shape[0])\n",
    "            tmp_mtx[rep_ind,col] += multiple_factor #this will add the correct value to the zero element to make an elementary matrix that can be multiplied with the original matrix to give us the row operation result\n",
    "            row_op_storage.append(tmp_mtx) # currently this is giving me only a single row, not the whole matrix\n",
    "    reduce_row(cop,pivots)\n",
    "    return cop\n",
    "\n",
    "def reduce_row(mtx,pivot_lst):\n",
    "    global row_op_storage\n",
    "    pivot_lst.reverse()\n",
    "    for row,col in pivot_lst:\n",
    "        divider_val = mtx[row,col]\n",
    "        mtx[row,:] = mtx[row,:]/divider_val\n",
    "        tmp_mtx = eye(trbl_mkr.shape[0]) #making sure to add another entry to the list of elementary matrices\n",
    "        tmp_mtx[row,col] = 1/divider_val\n",
    "        row_op_storage.append(tmp_mtx)\n",
    "        col_list = list(mtx[:,col])\n",
    "        while col_list.count(0) < mtx.rows -1:\n",
    "            rep_ind = find_nonzero_ind(col_list,row,True) #makes sure to not include the potential pivot row in the search but keeps the indexing constant with mtx\n",
    "            multiple_factor = add_mult_row(mtx,mtx[row,col],mtx[rep_ind,col])\n",
    "            mtx[rep_ind,:] += mtx[row,:]*multiple_factor\n",
    "            tmp_mtx = eye(trbl_mkr.shape[0])\n",
    "            tmp_mtx[rep_ind,col] += multiple_factor \n",
    "            row_op_storage.append(tmp_mtx) \n",
    "            col_list = list(mtx[:,col])\n",
    "\n",
    "    \n",
    "## trbl seems to be about two zeros next to each other, fixed by using a check against \n",
    "\n",
    "\n",
    "##ipdb.runcall(shortEF,trbl_makr)"
   ]
  },
  {
   "cell_type": "code",
   "execution_count": 8,
   "metadata": {
    "collapsed": false
   },
   "outputs": [
    {
     "data": {
      "image/png": "[encoded data removed]",
      "text/latex": [
       "$$\\left [ \\left[\\begin{matrix}1 & 0 & 0 & 0\\\\0 & 1 & 0 & 0\\\\0 & 0 & 1 & 0\\\\0 & 0 & 0 & 1\\end{matrix}\\right]\\right ]$$"
      ],
      "text/plain": [
       "⎡⎡1  0  0  0⎤⎤\n",
       "⎢⎢          ⎥⎥\n",
       "⎢⎢0  1  0  0⎥⎥\n",
       "⎢⎢          ⎥⎥\n",
       "⎢⎢0  0  1  0⎥⎥\n",
       "⎢⎢          ⎥⎥\n",
       "⎣⎣0  0  0  1⎦⎦"
      ]
     },
     "execution_count": 8,
     "metadata": {},
     "output_type": "execute_result"
    }
   ],
   "source": [
    "trbl_mkr = Matrix(4,3,[random.randrange(1,100) if random.randrange(1,5) > 3 else 0 for i in range(12)])\n",
    "\n",
    "row_op_storage = [eye(trbl_mkr.shape[0])]\n",
    "row_op_storage"
   ]
  },
  {
   "cell_type": "code",
   "execution_count": 12,
   "metadata": {
    "collapsed": false,
    "scrolled": true
   },
   "outputs": [
    {
     "data": {
      "image/png": "[encoded data removed]",
      "text/latex": [
       "$$\\left [ \\left[\\begin{matrix}1 & 0 & 0 & 0\\\\0 & 1 & 0 & 0\\\\0 & 0 & 1 & 0\\\\0 & 0 & 0 & 1\\end{matrix}\\right], \\quad \\left[\\begin{matrix}0 & 1 & 0 & 0\\\\1 & 0 & 0 & 0\\\\0 & 0 & 1 & 0\\\\0 & 0 & 0 & 1\\end{matrix}\\right], \\quad \\left[\\begin{matrix}1 & 0 & 0 & 0\\\\0 & 1 & 0 & 0\\\\0 & 0 & 1 & 0\\\\- \\frac{37}{2} & 0 & 0 & 1\\end{matrix}\\right], \\quad \\left[\\begin{matrix}1 & 0 & 0 & 0\\\\0 & 1 & 0 & 0\\\\0 & 0 & 1 & 0\\\\0 & \\frac{720}{29} & 0 & 1\\end{matrix}\\right], \\quad \\left[\\begin{matrix}1 & 0 & 0 & 0\\\\0 & \\frac{1}{58} & 0 & 0\\\\0 & 0 & 1 & 0\\\\0 & 0 & 0 & 1\\end{matrix}\\right], \\quad \\left[\\begin{matrix}1 & -78 & 0 & 0\\\\0 & 1 & 0 & 0\\\\0 & 0 & 1 & 0\\\\0 & 0 & 0 & 1\\end{matrix}\\right], \\quad \\left[\\begin{matrix}\\frac{1}{4} & 0 & 0 & 0\\\\0 & 1 & 0 & 0\\\\0 & 0 & 1 & 0\\\\0 & 0 & 0 & 1\\end{matrix}\\right], \\quad \\left[\\begin{matrix}0 & 1 & 0 & 0\\\\1 & 0 & 0 & 0\\\\0 & 0 & 1 & 0\\\\0 & 0 & 0 & 1\\end{matrix}\\right], \\quad \\left[\\begin{matrix}1 & 0 & 0 & 0\\\\0 & 1 & 0 & 0\\\\0 & 0 & 1 & 0\\\\- \\frac{37}{2} & 0 & 0 & 1\\end{matrix}\\right], \\quad \\left[\\begin{matrix}1 & 0 & 0 & 0\\\\0 & 1 & 0 & 0\\\\0 & 0 & 1 & 0\\\\0 & \\frac{720}{29} & 0 & 1\\end{matrix}\\right], \\quad \\left[\\begin{matrix}1 & 0 & 0 & 0\\\\0 & \\frac{1}{58} & 0 & 0\\\\0 & 0 & 1 & 0\\\\0 & 0 & 0 & 1\\end{matrix}\\right], \\quad \\left[\\begin{matrix}1 & -78 & 0 & 0\\\\0 & 1 & 0 & 0\\\\0 & 0 & 1 & 0\\\\0 & 0 & 0 & 1\\end{matrix}\\right], \\quad \\left[\\begin{matrix}\\frac{1}{4} & 0 & 0 & 0\\\\0 & 1 & 0 & 0\\\\0 & 0 & 1 & 0\\\\0 & 0 & 0 & 1\\end{matrix}\\right]\\right ]$$"
      ],
      "text/plain": [
       "⎡⎡1  0  0  0⎤, ⎡0  1  0  0⎤, ⎡  1    0  0  0⎤, ⎡1   0   0  0⎤, ⎡1   0    0  0⎤\n",
       "⎢⎢          ⎥  ⎢          ⎥  ⎢              ⎥  ⎢            ⎥  ⎢             ⎥\n",
       "⎢⎢0  1  0  0⎥  ⎢1  0  0  0⎥  ⎢  0    1  0  0⎥  ⎢0   1   0  0⎥  ⎢0  1/58  0  0⎥\n",
       "⎢⎢          ⎥  ⎢          ⎥  ⎢              ⎥  ⎢            ⎥  ⎢             ⎥\n",
       "⎢⎢0  0  1  0⎥  ⎢0  0  1  0⎥  ⎢  0    0  1  0⎥  ⎢0   0   1  0⎥  ⎢0   0    1  0⎥\n",
       "⎢⎢          ⎥  ⎢          ⎥  ⎢              ⎥  ⎢            ⎥  ⎢             ⎥\n",
       "⎢⎣0  0  0  1⎦  ⎣0  0  0  1⎦  ⎣-37/2  0  0  1⎦  ⎢   720      ⎥  ⎣0   0    0  1⎦\n",
       "⎢                                              ⎢0  ───  0  1⎥                 \n",
       "⎣                                              ⎣    29      ⎦                 \n",
       "\n",
       ", ⎡1  -78  0  0⎤, ⎡1/4  0  0  0⎤, ⎡0  1  0  0⎤, ⎡  1    0  0  0⎤, ⎡1   0   0  \n",
       "  ⎢            ⎥  ⎢            ⎥  ⎢          ⎥  ⎢              ⎥  ⎢           \n",
       "  ⎢0   1   0  0⎥  ⎢ 0   1  0  0⎥  ⎢1  0  0  0⎥  ⎢  0    1  0  0⎥  ⎢0   1   0  \n",
       "  ⎢            ⎥  ⎢            ⎥  ⎢          ⎥  ⎢              ⎥  ⎢           \n",
       "  ⎢0   0   1  0⎥  ⎢ 0   0  1  0⎥  ⎢0  0  1  0⎥  ⎢  0    0  1  0⎥  ⎢0   0   1  \n",
       "  ⎢            ⎥  ⎢            ⎥  ⎢          ⎥  ⎢              ⎥  ⎢           \n",
       "  ⎣0   0   0  1⎦  ⎣ 0   0  0  1⎦  ⎣0  0  0  1⎦  ⎣-37/2  0  0  1⎦  ⎢   720     \n",
       "                                                                  ⎢0  ───  0  \n",
       "                                                                  ⎣    29     \n",
       "\n",
       "0⎤, ⎡1   0    0  0⎤, ⎡1  -78  0  0⎤, ⎡1/4  0  0  0⎤⎤\n",
       " ⎥  ⎢             ⎥  ⎢            ⎥  ⎢            ⎥⎥\n",
       "0⎥  ⎢0  1/58  0  0⎥  ⎢0   1   0  0⎥  ⎢ 0   1  0  0⎥⎥\n",
       " ⎥  ⎢             ⎥  ⎢            ⎥  ⎢            ⎥⎥\n",
       "0⎥  ⎢0   0    1  0⎥  ⎢0   0   1  0⎥  ⎢ 0   0  1  0⎥⎥\n",
       " ⎥  ⎢             ⎥  ⎢            ⎥  ⎢            ⎥⎥\n",
       " ⎥  ⎣0   0    0  1⎦  ⎣0   0   0  1⎦  ⎣ 0   0  0  1⎦⎥\n",
       "1⎥                                                 ⎥\n",
       " ⎦                                                 ⎦"
      ]
     },
     "execution_count": 12,
     "metadata": {},
     "output_type": "execute_result"
    }
   ],
   "source": [
    "result = shortEF(trbl_mkr)\n",
    "\n",
    "row_op_storage"
   ]
  },
  {
   "cell_type": "code",
   "execution_count": 11,
   "metadata": {
    "collapsed": false,
    "scrolled": true
   },
   "outputs": [
    {
     "data": {
      "image/png": "[encoded data removed]",
      "text/latex": [
       "$$\\left[\\begin{matrix}1 & 0 & 0\\\\0 & 1 & 0\\\\0 & 0 & 0\\\\0 & 0 & 0\\end{matrix}\\right]$$"
      ],
      "text/plain": [
       "⎡1  0  0⎤\n",
       "⎢       ⎥\n",
       "⎢0  1  0⎥\n",
       "⎢       ⎥\n",
       "⎢0  0  0⎥\n",
       "⎢       ⎥\n",
       "⎣0  0  0⎦"
      ]
     },
     "execution_count": 11,
     "metadata": {},
     "output_type": "execute_result"
    }
   ],
   "source": [
    "comp_mtx = eye(trbl_mkr.shape[0])\n",
    "for mtx in row_op_storage:\n",
    "    comp_mtx = mtx*comp_mtx #this is the correct order to make sure that the product below comes out as the identity matrix\n",
    "    \n",
    "comp_mtx*trbl_mkr\n",
    "    \n"
   ]
  },
  {
   "cell_type": "code",
   "execution_count": 13,
   "metadata": {
    "collapsed": false
   },
   "outputs": [
    {
     "data": {
      "image/png": "[encoded data removed]",
      "text/latex": [
       "$$\\left[\\begin{matrix}1 & 0 & 0\\\\0 & 1 & 0\\\\0 & 0 & 0\\\\0 & 0 & 0\\end{matrix}\\right]$$"
      ],
      "text/plain": [
       "⎡1  0  0⎤\n",
       "⎢       ⎥\n",
       "⎢0  1  0⎥\n",
       "⎢       ⎥\n",
       "⎢0  0  0⎥\n",
       "⎢       ⎥\n",
       "⎣0  0  0⎦"
      ]
     },
     "execution_count": 13,
     "metadata": {},
     "output_type": "execute_result"
    }
   ],
   "source": [
    "result\n"
   ]
  }
 ],
 "metadata": {
  "kernelspec": {
   "display_name": "Python 3",
   "language": "python",
   "name": "python3"
  },
  "language_info": {
   "codemirror_mode": {
    "name": "ipython",
    "version": 3
   },
   "file_extension": ".py",
   "mimetype": "text/x-python",
   "name": "python",
   "nbconvert_exporter": "python",
   "pygments_lexer": "ipython3",
   "version": "3.5.1"
  }
 },
 "nbformat": 4,
 "nbformat_minor": 0
}
