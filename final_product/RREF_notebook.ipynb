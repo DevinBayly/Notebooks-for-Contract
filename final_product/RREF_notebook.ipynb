{
 "cells": [
  {
   "cell_type": "markdown",
   "metadata": {},
   "source": [
    "# The Reduced Row Echelon Algorithm (RREF)\n",
    "\n",
    "The RREF algorithm is the swiss army knife of Linear Algebra. It is a process that is used continuously to solve problems from each section of the 313 course. Naturally the steps lend themselves nicely to computer scripts which perform RREF on some specified matrix.\n",
    "\n",
    "   ## steps for RREF\n",
    "    Begin with the leftmost nonzero column. This is a pivot column. The pivot\n",
    "    position is at the top.\n",
    "    \n",
    "    Select a nonzero entry in the pivot column as a pivot. If necessary, interchange\n",
    "    rows to move this entry into the pivot position.\n",
    "    \n",
    "    Use row replacement operations to create zeros in all positions below the pivot.\n",
    "    \n",
    "    Cover (or ignore) the row containing the pivot position and cover all rows, if any,\n",
    "    above it. Apply steps 1–3 to the submatrix that remains. Repeat the process until\n",
    "    there are no more nonzero rows to modify.\n",
    "    \n",
    "    Beginning with the rightmost pivot and working upward and to the left, create\n",
    "    zeros above each pivot. If a pivot is not 1, make it 1 by a scaling operation.\n",
    "    \n",
    "\n",
    "The name can be explained best from right to left. Echelon form is an arrangement of entries in a matrix such that each row's entry is to the right (1 or more columns to the right) of the entry in the row above. Reduced Row describes the process in which we apply row operations (see elementary matrix notebook for row operations explained) until reach a point where the matrix is in echelon form, and then reduce (divide) each row such that the first entry in the row is a 1.\n",
    "\n",
    "To get started simply run the cell below (ctrl-Enter or shift-Enter) and we will import the necessary pieces to be used in the RREF script I wrote. "
   ]
  },
  {
   "cell_type": "code",
   "execution_count": 1,
   "metadata": {
    "collapsed": true
   },
   "outputs": [],
   "source": [
    "from __future__ import division\n",
    "import random\n",
    "from sympy import *\n",
    "x, y, z, t = symbols('x y z t')\n",
    "k, m, n = symbols('k m n', integer=True)\n",
    "f, g, h = symbols('f g h', cls=Function)\n",
    "init_printing()"
   ]
  },
  {
   "cell_type": "markdown",
   "metadata": {},
   "source": [
    "## Helper functions\n",
    "\n",
    "To make the process of calculating the RREF version of a matrix easier I have written several of the important sub processes into functions of their own.\n",
    "\n",
    "#### Target swap\n",
    "This is a function that allows for the swapping of specific rows in our matrix\n",
    "\n",
    "#### Find nonzero ind\n",
    "This function finds the first index value in a column below the current row, col position (more on this later).\n",
    "\n",
    "#### Add mult row\n",
    "This is a short function that gives back the correct numerical value that a row needs to be multiplied by in order to zero out a position in some other row\n"
   ]
  },
  {
   "cell_type": "code",
   "execution_count": null,
   "metadata": {
    "collapsed": true
   },
   "outputs": [],
   "source": [
    "def target_swap(mtx,row,lst):\n",
    "    ret_mtx = mtx.copy()\n",
    "    rep_ind = find_nonzero_ind(lst,row)\n",
    "    if rep_ind:\n",
    "        rep_row = ret_mtx[rep_ind,:]\n",
    "        ret_mtx[rep_ind,:] = ret_mtx[row,:]\n",
    "        ret_mtx[row,:] =rep_row\n",
    "        return ret_mtx\n",
    "    return False\n",
    "\n",
    "def find_nonzero_ind(lst,row,backwards=False):\n",
    "    if backwards:\n",
    "        lst_to_bool = [x == 0 if i < row else True for i,x in enumerate(lst)]\n",
    "    else:\n",
    "        lst_to_bool = [x == 0 if i > row else True for i,x in enumerate(lst)]\n",
    "    if False not in lst_to_bool:\n",
    "        return False\n",
    "    return lst_to_bool.index(False)\n",
    "\n",
    "def add_mult_row(mtx,piv_row,other):\n",
    "    return solve(piv_row*x+ other,x)[0]"
   ]
  },
  {
   "cell_type": "markdown",
   "metadata": {},
   "source": [
    "### The main event Short EF\n",
    "\n",
    "The name here is taken from the fact that a previous version of the RREF was attempted that became a sprawling monster of code, so by comparison this is the shorter of the functions to calculate Echelon Form.\n",
    "\n",
    "This function runs by looping over the potential pivot positions in a matrix. A pivot position is just another way of describing the eventual nonzero entries in a RREF'd matrix. We will one by one check possible row and column positions for these pivots.\n",
    "\n",
    "What follows next is a section that determines the current state of the matrix by looking at our current column in list form. So, if we have as many zeros in a column as we have rows in the matrix then we need to shift to the next column to look for pivots. Also, if there is an entire row of zeros we need to shift one column over. If the current pivot search position is a zero, then we will perform the row swapping function from above. Lastly, if there is the correct number of zeros below the position in the matrix we are investigating, and that entry isn't zero the we have found a pivot and need to continue with the next row next column.\n",
    "\n",
    "\n",
    "        if col_list.count(0) == cop.rows or col_list[row:].count(0) > cop.rows -1 -row:\n",
    "            col +=1\n",
    "            continue\n",
    "        if cop[row,col] == 0 :\n",
    "                cop = target_swap(cop,row,col_list)\n",
    "                try_cap -=1\n",
    "                continue\n",
    "        if col_list[row:].count(0) == cop.rows -1 -row:\n",
    "            pivots.append((row,col))\n",
    "            col +=1\n",
    "            row +=1\n",
    "            continue\n",
    "            \n",
    "Now, if none of these conditionals applies then we are in the position in which we have found a potential non-zero pivot position, and there just happens to be another non-zero entry below in the column. First step is to locate that entry below using the helper function \"find nonzero ind\", and then we determine the scalar multiple that the current pivot row needs to be multiplied by so that when these two rows are added, we zero out the entry below.\n",
    "\n",
    "            rep_ind = find_nonzero_ind(col_list,row) #makes sure to not include the potential pivot row in the search but keeps the indexing constant with mtx\n",
    "            multiple_factor = add_mult_row(cop,cop[row,col],cop[rep_ind,col])\n",
    "            cop[rep_ind,:] += cop[row,:]*multiple_factor\n",
    "            \n",
    "With this all taken care of the loop restarts until all the potential pivot positions have been evaluated.\n",
    " \n",
    "The second to last step here is to reduce each of the rows by dividing the whole thing by whatever their leading (first non-zero from the left edge) entry is.\n",
    "        mtx[row,:] = mtx[row,:]/mtx[row,col]\n",
    "The final aesthetic step is to re-arrange the rows into the echelon form.\n",
    "        rep_ind = find_nonzero_ind(col_list,row,True) \n",
    "        multiple_factor = add_mult_row(mtx,mtx[row,col],mtx[rep_ind,col])\n",
    "        mtx[rep_ind,:] += mtx[row,:]*multiple_factor\n",
    "        col_list = list(mtx[:,col])"
   ]
  },
  {
   "cell_type": "code",
   "execution_count": null,
   "metadata": {
    "collapsed": true
   },
   "outputs": [],
   "source": [
    "def shortEF(mtx):\n",
    "    pivots = []\n",
    "    cop = mtx.copy()\n",
    "    row,col = 0,0\n",
    "    try_cap = cop.rows + 30\n",
    "    while row < cop.rows and col < cop.cols: #took off -1 from cop.rows mighthave broken stuff\n",
    "        col_list = list(cop[:,col])\n",
    "        if try_cap < 0:\n",
    "            return (row,col)\n",
    "        if col_list.count(0) == cop.rows or col_list[row:].count(0) > cop.rows -1 -row:\n",
    "            col +=1\n",
    "            continue\n",
    "        if cop[row,col] == 0 :\n",
    "                cop = target_swap(cop,row,col_list)\n",
    "                try_cap -=1\n",
    "                continue\n",
    "        if col_list[row:].count(0) == cop.rows -1 -row:\n",
    "            pivots.append((row,col))\n",
    "            col +=1\n",
    "            row +=1\n",
    "            continue\n",
    "        else:\n",
    "            \n",
    "            rep_ind = find_nonzero_ind(col_list,row) \n",
    "            multiple_factor = add_mult_row(cop,cop[row,col],cop[rep_ind,col])\n",
    "            cop[rep_ind,:] += cop[row,:]*multiple_factor\n",
    "    reduce_row(cop,pivots)\n",
    "    return cop\n",
    "\n",
    "def reduce_row(mtx,pivot_lst):\n",
    "    pivot_lst.reverse()\n",
    "    for row,col in pivot_lst:\n",
    "        mtx[row,:] = mtx[row,:]/mtx[row,col]\n",
    "        col_list = list(mtx[:,col])\n",
    "        while col_list.count(0) < mtx.rows -1:\n",
    "            rep_ind = find_nonzero_ind(col_list,row,True) \n",
    "            multiple_factor = add_mult_row(mtx,mtx[row,col],mtx[rep_ind,col])\n",
    "            mtx[rep_ind,:] += mtx[row,:]*multiple_factor\n",
    "            col_list = list(mtx[:,col])\n",
    "\n",
    "    \n",
    "\n",
    "    \n"
   ]
  },
  {
   "cell_type": "markdown",
   "metadata": {},
   "source": [
    "If you are at all interesting in some serious testing of this script, the below will run this collection of functions 200 times on randomly generated 7x8 matrices and compare the resulting RREF to established RREF functions from the Sympy computer algebra package. "
   ]
  },
  {
   "cell_type": "code",
   "execution_count": 3,
   "metadata": {
    "collapsed": false,
    "scrolled": true
   },
   "outputs": [
    {
     "ename": "KeyboardInterrupt",
     "evalue": "",
     "output_type": "error",
     "traceback": [
      "\u001b[1;31m---------------------------------------------------------------------------\u001b[0m",
      "\u001b[1;31mKeyboardInterrupt\u001b[0m                         Traceback (most recent call last)",
      "\u001b[1;32m<ipython-input-3-2e0592ef4600>\u001b[0m in \u001b[0;36m<module>\u001b[1;34m()\u001b[0m\n\u001b[0;32m     89\u001b[0m \u001b[1;33m\u001b[0m\u001b[0m\n\u001b[0;32m     90\u001b[0m \u001b[1;32mif\u001b[0m \u001b[0m__name__\u001b[0m \u001b[1;33m==\u001b[0m \u001b[1;34m\"__main__\"\u001b[0m\u001b[1;33m:\u001b[0m\u001b[1;33m\u001b[0m\u001b[0m\n\u001b[1;32m---> 91\u001b[1;33m     \u001b[0mmain\u001b[0m\u001b[1;33m(\u001b[0m\u001b[1;33m)\u001b[0m\u001b[1;33m\u001b[0m\u001b[0m\n\u001b[0m\u001b[0;32m     92\u001b[0m     \u001b[1;31m#ipdb.runcall(main)O\u001b[0m\u001b[1;33m\u001b[0m\u001b[1;33m\u001b[0m\u001b[0m\n\u001b[0;32m     93\u001b[0m \u001b[1;33m\u001b[0m\u001b[0m\n",
      "\u001b[1;32m<ipython-input-3-2e0592ef4600>\u001b[0m in \u001b[0;36mmain\u001b[1;34m()\u001b[0m\n\u001b[0;32m     81\u001b[0m     \u001b[1;32mfor\u001b[0m \u001b[0mi\u001b[0m \u001b[1;32min\u001b[0m \u001b[0mrange\u001b[0m\u001b[1;33m(\u001b[0m\u001b[0mruns\u001b[0m\u001b[1;33m)\u001b[0m\u001b[1;33m:\u001b[0m\u001b[1;33m\u001b[0m\u001b[0m\n\u001b[0;32m     82\u001b[0m         \u001b[0mtrbl_mkr\u001b[0m \u001b[1;33m=\u001b[0m \u001b[0mMatrix\u001b[0m\u001b[1;33m(\u001b[0m\u001b[1;36m7\u001b[0m\u001b[1;33m,\u001b[0m\u001b[1;36m8\u001b[0m\u001b[1;33m,\u001b[0m\u001b[1;33m[\u001b[0m\u001b[0mrandom\u001b[0m\u001b[1;33m.\u001b[0m\u001b[0mrandrange\u001b[0m\u001b[1;33m(\u001b[0m\u001b[1;36m1\u001b[0m\u001b[1;33m,\u001b[0m\u001b[1;36m100\u001b[0m\u001b[1;33m)\u001b[0m \u001b[1;32mif\u001b[0m \u001b[0mrandom\u001b[0m\u001b[1;33m.\u001b[0m\u001b[0mrandrange\u001b[0m\u001b[1;33m(\u001b[0m\u001b[1;36m1\u001b[0m\u001b[1;33m,\u001b[0m\u001b[1;36m5\u001b[0m\u001b[1;33m)\u001b[0m \u001b[1;33m<\u001b[0m \u001b[1;36m3\u001b[0m \u001b[1;32melse\u001b[0m \u001b[1;36m0\u001b[0m \u001b[1;32mfor\u001b[0m \u001b[0mnum\u001b[0m \u001b[1;32min\u001b[0m \u001b[0mrange\u001b[0m\u001b[1;33m(\u001b[0m\u001b[1;36m56\u001b[0m\u001b[1;33m)\u001b[0m\u001b[1;33m]\u001b[0m\u001b[1;33m)\u001b[0m\u001b[1;33m\u001b[0m\u001b[0m\n\u001b[1;32m---> 83\u001b[1;33m         \u001b[1;32mif\u001b[0m \u001b[0mshortEF\u001b[0m\u001b[1;33m(\u001b[0m\u001b[0mtrbl_mkr\u001b[0m\u001b[1;33m)\u001b[0m \u001b[1;33m!=\u001b[0m \u001b[0mtrbl_mkr\u001b[0m\u001b[1;33m.\u001b[0m\u001b[0mrref\u001b[0m\u001b[1;33m(\u001b[0m\u001b[1;33m)\u001b[0m\u001b[1;33m[\u001b[0m\u001b[1;36m0\u001b[0m\u001b[1;33m]\u001b[0m\u001b[1;33m:\u001b[0m\u001b[1;33m\u001b[0m\u001b[0m\n\u001b[0m\u001b[0;32m     84\u001b[0m             \u001b[0mserious_trbl_mkrs\u001b[0m\u001b[1;33m.\u001b[0m\u001b[0mappend\u001b[0m\u001b[1;33m(\u001b[0m\u001b[0mtrbl_mkr\u001b[0m\u001b[1;33m)\u001b[0m\u001b[1;33m\u001b[0m\u001b[0m\n\u001b[0;32m     85\u001b[0m \u001b[1;33m\u001b[0m\u001b[0m\n",
      "\u001b[1;32m<ipython-input-3-2e0592ef4600>\u001b[0m in \u001b[0;36mshortEF\u001b[1;34m(mtx)\u001b[0m\n\u001b[0;32m     54\u001b[0m \u001b[1;33m\u001b[0m\u001b[0m\n\u001b[0;32m     55\u001b[0m             \u001b[0mrep_ind\u001b[0m \u001b[1;33m=\u001b[0m \u001b[0mfind_nonzero_ind\u001b[0m\u001b[1;33m(\u001b[0m\u001b[0mcol_list\u001b[0m\u001b[1;33m,\u001b[0m\u001b[0mrow\u001b[0m\u001b[1;33m)\u001b[0m \u001b[1;31m#makes sure to not include the potential pivot row in the search but keeps the indexing constant with mtx\u001b[0m\u001b[1;33m\u001b[0m\u001b[0m\n\u001b[1;32m---> 56\u001b[1;33m             \u001b[0mmultiple_factor\u001b[0m \u001b[1;33m=\u001b[0m \u001b[0madd_mult_row\u001b[0m\u001b[1;33m(\u001b[0m\u001b[0mcop\u001b[0m\u001b[1;33m,\u001b[0m\u001b[0mcop\u001b[0m\u001b[1;33m[\u001b[0m\u001b[0mrow\u001b[0m\u001b[1;33m,\u001b[0m\u001b[0mcol\u001b[0m\u001b[1;33m]\u001b[0m\u001b[1;33m,\u001b[0m\u001b[0mcop\u001b[0m\u001b[1;33m[\u001b[0m\u001b[0mrep_ind\u001b[0m\u001b[1;33m,\u001b[0m\u001b[0mcol\u001b[0m\u001b[1;33m]\u001b[0m\u001b[1;33m)\u001b[0m\u001b[1;33m\u001b[0m\u001b[0m\n\u001b[0m\u001b[0;32m     57\u001b[0m             \u001b[0mcop\u001b[0m\u001b[1;33m[\u001b[0m\u001b[0mrep_ind\u001b[0m\u001b[1;33m,\u001b[0m\u001b[1;33m:\u001b[0m\u001b[1;33m]\u001b[0m \u001b[1;33m+=\u001b[0m \u001b[0mcop\u001b[0m\u001b[1;33m[\u001b[0m\u001b[0mrow\u001b[0m\u001b[1;33m,\u001b[0m\u001b[1;33m:\u001b[0m\u001b[1;33m]\u001b[0m\u001b[1;33m*\u001b[0m\u001b[0mmultiple_factor\u001b[0m\u001b[1;33m\u001b[0m\u001b[0m\n\u001b[0;32m     58\u001b[0m     \u001b[0mreduce_row\u001b[0m\u001b[1;33m(\u001b[0m\u001b[0mcop\u001b[0m\u001b[1;33m,\u001b[0m\u001b[0mpivots\u001b[0m\u001b[1;33m)\u001b[0m\u001b[1;33m\u001b[0m\u001b[0m\n",
      "\u001b[1;32m<ipython-input-3-2e0592ef4600>\u001b[0m in \u001b[0;36madd_mult_row\u001b[1;34m(mtx, piv_row, other)\u001b[0m\n\u001b[0;32m     25\u001b[0m \u001b[1;33m\u001b[0m\u001b[0m\n\u001b[0;32m     26\u001b[0m \u001b[1;32mdef\u001b[0m \u001b[0madd_mult_row\u001b[0m\u001b[1;33m(\u001b[0m\u001b[0mmtx\u001b[0m\u001b[1;33m,\u001b[0m\u001b[0mpiv_row\u001b[0m\u001b[1;33m,\u001b[0m\u001b[0mother\u001b[0m\u001b[1;33m)\u001b[0m\u001b[1;33m:\u001b[0m\u001b[1;33m\u001b[0m\u001b[0m\n\u001b[1;32m---> 27\u001b[1;33m     \u001b[1;32mreturn\u001b[0m \u001b[0msolve\u001b[0m\u001b[1;33m(\u001b[0m\u001b[0mpiv_row\u001b[0m\u001b[1;33m*\u001b[0m\u001b[0mx\u001b[0m\u001b[1;33m+\u001b[0m \u001b[0mother\u001b[0m\u001b[1;33m,\u001b[0m\u001b[0mx\u001b[0m\u001b[1;33m)\u001b[0m\u001b[1;33m[\u001b[0m\u001b[1;36m0\u001b[0m\u001b[1;33m]\u001b[0m\u001b[1;33m\u001b[0m\u001b[0m\n\u001b[0m\u001b[0;32m     28\u001b[0m \u001b[1;33m\u001b[0m\u001b[0m\n\u001b[0;32m     29\u001b[0m \u001b[1;33m\u001b[0m\u001b[0m\n",
      "\u001b[1;32m/home/dev/miniconda3/lib/python3.5/site-packages/sympy/solvers/solvers.py\u001b[0m in \u001b[0;36msolve\u001b[1;34m(f, *symbols, **flags)\u001b[0m\n\u001b[0;32m    907\u001b[0m     \u001b[1;31m###########################################################################\u001b[0m\u001b[1;33m\u001b[0m\u001b[1;33m\u001b[0m\u001b[0m\n\u001b[0;32m    908\u001b[0m     \u001b[1;32mif\u001b[0m \u001b[0mbare_f\u001b[0m\u001b[1;33m:\u001b[0m\u001b[1;33m\u001b[0m\u001b[0m\n\u001b[1;32m--> 909\u001b[1;33m         \u001b[0msolution\u001b[0m \u001b[1;33m=\u001b[0m \u001b[0m_solve\u001b[0m\u001b[1;33m(\u001b[0m\u001b[0mf\u001b[0m\u001b[1;33m[\u001b[0m\u001b[1;36m0\u001b[0m\u001b[1;33m]\u001b[0m\u001b[1;33m,\u001b[0m \u001b[1;33m*\u001b[0m\u001b[0msymbols\u001b[0m\u001b[1;33m,\u001b[0m \u001b[1;33m**\u001b[0m\u001b[0mflags\u001b[0m\u001b[1;33m)\u001b[0m\u001b[1;33m\u001b[0m\u001b[0m\n\u001b[0m\u001b[0;32m    910\u001b[0m     \u001b[1;32melse\u001b[0m\u001b[1;33m:\u001b[0m\u001b[1;33m\u001b[0m\u001b[0m\n\u001b[0;32m    911\u001b[0m         \u001b[0msolution\u001b[0m \u001b[1;33m=\u001b[0m \u001b[0m_solve_system\u001b[0m\u001b[1;33m(\u001b[0m\u001b[0mf\u001b[0m\u001b[1;33m,\u001b[0m \u001b[0msymbols\u001b[0m\u001b[1;33m,\u001b[0m \u001b[1;33m**\u001b[0m\u001b[0mflags\u001b[0m\u001b[1;33m)\u001b[0m\u001b[1;33m\u001b[0m\u001b[0m\n",
      "\u001b[1;32m/home/dev/miniconda3/lib/python3.5/site-packages/sympy/solvers/solvers.py\u001b[0m in \u001b[0;36m_solve\u001b[1;34m(f, *symbols, **flags)\u001b[0m\n\u001b[0;32m   1194\u001b[0m         \u001b[1;31m# first see if it really depends on symbol and whether there\u001b[0m\u001b[1;33m\u001b[0m\u001b[1;33m\u001b[0m\u001b[0m\n\u001b[0;32m   1195\u001b[0m         \u001b[1;31m# is a linear solution\u001b[0m\u001b[1;33m\u001b[0m\u001b[1;33m\u001b[0m\u001b[0m\n\u001b[1;32m-> 1196\u001b[1;33m         \u001b[0mf_num\u001b[0m\u001b[1;33m,\u001b[0m \u001b[0msol\u001b[0m \u001b[1;33m=\u001b[0m \u001b[0msolve_linear\u001b[0m\u001b[1;33m(\u001b[0m\u001b[0mf\u001b[0m\u001b[1;33m,\u001b[0m \u001b[0msymbols\u001b[0m\u001b[1;33m=\u001b[0m\u001b[0msymbols\u001b[0m\u001b[1;33m)\u001b[0m\u001b[1;33m\u001b[0m\u001b[0m\n\u001b[0m\u001b[0;32m   1197\u001b[0m         \u001b[1;32mif\u001b[0m \u001b[1;32mnot\u001b[0m \u001b[0msymbol\u001b[0m \u001b[1;32min\u001b[0m \u001b[0mf_num\u001b[0m\u001b[1;33m.\u001b[0m\u001b[0mfree_symbols\u001b[0m\u001b[1;33m:\u001b[0m\u001b[1;33m\u001b[0m\u001b[0m\n\u001b[0;32m   1198\u001b[0m             \u001b[1;32mreturn\u001b[0m \u001b[1;33m[\u001b[0m\u001b[1;33m]\u001b[0m\u001b[1;33m\u001b[0m\u001b[0m\n",
      "\u001b[1;32m/home/dev/miniconda3/lib/python3.5/site-packages/sympy/solvers/solvers.py\u001b[0m in \u001b[0;36msolve_linear\u001b[1;34m(lhs, rhs, symbols, exclude)\u001b[0m\n\u001b[0;32m   1780\u001b[0m                     \u001b[0mvi\u001b[0m \u001b[1;33m=\u001b[0m \u001b[1;33m-\u001b[0m\u001b[1;33m(\u001b[0m\u001b[0mnn\u001b[0m\u001b[1;33m.\u001b[0m\u001b[0msubs\u001b[0m\u001b[1;33m(\u001b[0m\u001b[0mxi\u001b[0m\u001b[1;33m,\u001b[0m \u001b[1;36m0\u001b[0m\u001b[1;33m)\u001b[0m\u001b[1;33m)\u001b[0m\u001b[1;33m/\u001b[0m\u001b[0mdn\u001b[0m\u001b[1;33m\u001b[0m\u001b[0m\n\u001b[0;32m   1781\u001b[0m                     \u001b[1;32mif\u001b[0m \u001b[0mdens\u001b[0m \u001b[1;32mis\u001b[0m \u001b[1;32mNone\u001b[0m\u001b[1;33m:\u001b[0m\u001b[1;33m\u001b[0m\u001b[0m\n\u001b[1;32m-> 1782\u001b[1;33m                         \u001b[0mdens\u001b[0m \u001b[1;33m=\u001b[0m \u001b[0mdenoms\u001b[0m\u001b[1;33m(\u001b[0m\u001b[0meq\u001b[0m\u001b[1;33m,\u001b[0m \u001b[0msymbols\u001b[0m\u001b[1;33m)\u001b[0m\u001b[1;33m\u001b[0m\u001b[0m\n\u001b[0m\u001b[0;32m   1783\u001b[0m                     if not any(checksol(di, {xi: vi}, minimal=True) is True\n\u001b[0;32m   1784\u001b[0m                               for di in dens):\n",
      "\u001b[1;32m/home/dev/miniconda3/lib/python3.5/site-packages/sympy/solvers/solvers.py\u001b[0m in \u001b[0;36mdenoms\u001b[1;34m(eq, symbols)\u001b[0m\n\u001b[0;32m     91\u001b[0m     \u001b[0mdens\u001b[0m \u001b[1;33m=\u001b[0m \u001b[0mset\u001b[0m\u001b[1;33m(\u001b[0m\u001b[1;33m)\u001b[0m\u001b[1;33m\u001b[0m\u001b[0m\n\u001b[0;32m     92\u001b[0m     \u001b[1;32mfor\u001b[0m \u001b[0mp\u001b[0m \u001b[1;32min\u001b[0m \u001b[0mpot\u001b[0m\u001b[1;33m:\u001b[0m\u001b[1;33m\u001b[0m\u001b[0m\n\u001b[1;32m---> 93\u001b[1;33m         \u001b[0mden\u001b[0m \u001b[1;33m=\u001b[0m  \u001b[0mdenom\u001b[0m\u001b[1;33m(\u001b[0m\u001b[0mp\u001b[0m\u001b[1;33m)\u001b[0m\u001b[1;33m\u001b[0m\u001b[0m\n\u001b[0m\u001b[0;32m     94\u001b[0m         \u001b[1;32mif\u001b[0m \u001b[0mden\u001b[0m \u001b[1;32mis\u001b[0m \u001b[0mS\u001b[0m\u001b[1;33m.\u001b[0m\u001b[0mOne\u001b[0m\u001b[1;33m:\u001b[0m\u001b[1;33m\u001b[0m\u001b[0m\n\u001b[0;32m     95\u001b[0m             \u001b[1;32mcontinue\u001b[0m\u001b[1;33m\u001b[0m\u001b[0m\n",
      "\u001b[1;32m/home/dev/miniconda3/lib/python3.5/site-packages/sympy/simplify/simplify.py\u001b[0m in \u001b[0;36mdenom\u001b[1;34m(expr)\u001b[0m\n\u001b[0;32m    125\u001b[0m \u001b[1;33m\u001b[0m\u001b[0m\n\u001b[0;32m    126\u001b[0m \u001b[1;32mdef\u001b[0m \u001b[0mdenom\u001b[0m\u001b[1;33m(\u001b[0m\u001b[0mexpr\u001b[0m\u001b[1;33m)\u001b[0m\u001b[1;33m:\u001b[0m\u001b[1;33m\u001b[0m\u001b[0m\n\u001b[1;32m--> 127\u001b[1;33m     \u001b[1;32mreturn\u001b[0m \u001b[0mfraction\u001b[0m\u001b[1;33m(\u001b[0m\u001b[0mexpr\u001b[0m\u001b[1;33m)\u001b[0m\u001b[1;33m[\u001b[0m\u001b[1;36m1\u001b[0m\u001b[1;33m]\u001b[0m\u001b[1;33m\u001b[0m\u001b[0m\n\u001b[0m\u001b[0;32m    128\u001b[0m \u001b[1;33m\u001b[0m\u001b[0m\n\u001b[0;32m    129\u001b[0m \u001b[1;33m\u001b[0m\u001b[0m\n",
      "\u001b[1;32m/home/dev/miniconda3/lib/python3.5/site-packages/sympy/simplify/simplify.py\u001b[0m in \u001b[0;36mfraction\u001b[1;34m(expr, exact)\u001b[0m\n\u001b[0;32m    117\u001b[0m             \u001b[0mnumer\u001b[0m\u001b[1;33m.\u001b[0m\u001b[0mappend\u001b[0m\u001b[1;33m(\u001b[0m\u001b[0mterm\u001b[0m\u001b[1;33m)\u001b[0m\u001b[1;33m\u001b[0m\u001b[0m\n\u001b[0;32m    118\u001b[0m \u001b[1;33m\u001b[0m\u001b[0m\n\u001b[1;32m--> 119\u001b[1;33m     \u001b[1;32mreturn\u001b[0m \u001b[0mMul\u001b[0m\u001b[1;33m(\u001b[0m\u001b[1;33m*\u001b[0m\u001b[0mnumer\u001b[0m\u001b[1;33m)\u001b[0m\u001b[1;33m,\u001b[0m \u001b[0mMul\u001b[0m\u001b[1;33m(\u001b[0m\u001b[1;33m*\u001b[0m\u001b[0mdenom\u001b[0m\u001b[1;33m)\u001b[0m\u001b[1;33m\u001b[0m\u001b[0m\n\u001b[0m\u001b[0;32m    120\u001b[0m \u001b[1;33m\u001b[0m\u001b[0m\n\u001b[0;32m    121\u001b[0m \u001b[1;33m\u001b[0m\u001b[0m\n",
      "\u001b[1;32m/home/dev/miniconda3/lib/python3.5/site-packages/sympy/core/operations.py\u001b[0m in \u001b[0;36m__new__\u001b[1;34m(cls, *args, **options)\u001b[0m\n\u001b[0;32m     31\u001b[0m         \u001b[0margs\u001b[0m \u001b[1;33m=\u001b[0m \u001b[1;33m[\u001b[0m\u001b[0ma\u001b[0m \u001b[1;32mfor\u001b[0m \u001b[0ma\u001b[0m \u001b[1;32min\u001b[0m \u001b[0margs\u001b[0m \u001b[1;32mif\u001b[0m \u001b[0ma\u001b[0m \u001b[1;32mis\u001b[0m \u001b[1;32mnot\u001b[0m \u001b[0mcls\u001b[0m\u001b[1;33m.\u001b[0m\u001b[0midentity\u001b[0m\u001b[1;33m]\u001b[0m\u001b[1;33m\u001b[0m\u001b[0m\n\u001b[0;32m     32\u001b[0m \u001b[1;33m\u001b[0m\u001b[0m\n\u001b[1;32m---> 33\u001b[1;33m         \u001b[1;32mif\u001b[0m \u001b[1;32mnot\u001b[0m \u001b[0moptions\u001b[0m\u001b[1;33m.\u001b[0m\u001b[0mpop\u001b[0m\u001b[1;33m(\u001b[0m\u001b[1;34m'evaluate'\u001b[0m\u001b[1;33m,\u001b[0m \u001b[0mglobal_evaluate\u001b[0m\u001b[1;33m[\u001b[0m\u001b[1;36m0\u001b[0m\u001b[1;33m]\u001b[0m\u001b[1;33m)\u001b[0m\u001b[1;33m:\u001b[0m\u001b[1;33m\u001b[0m\u001b[0m\n\u001b[0m\u001b[0;32m     34\u001b[0m             \u001b[1;32mreturn\u001b[0m \u001b[0mcls\u001b[0m\u001b[1;33m.\u001b[0m\u001b[0m_from_args\u001b[0m\u001b[1;33m(\u001b[0m\u001b[0margs\u001b[0m\u001b[1;33m)\u001b[0m\u001b[1;33m\u001b[0m\u001b[0m\n\u001b[0;32m     35\u001b[0m \u001b[1;33m\u001b[0m\u001b[0m\n",
      "\u001b[1;31mKeyboardInterrupt\u001b[0m: "
     ]
    }
   ],
   "source": [
    "\n",
    "def main ():\n",
    "    serious_trbl_mkrs = []\n",
    "    runs = 200\n",
    "    for i in range(runs):\n",
    "        trbl_mkr = Matrix(7,8,[random.randrange(1,100) if random.randrange(1,5) < 3 else 0 for num in range(56)])\n",
    "        if shortEF(trbl_mkr) != trbl_mkr.rref()[0]:\n",
    "            serious_trbl_mkrs.append(trbl_mkr)\n",
    "\n",
    "    pprint(serious_trbl_mkrs)\n",
    "    if len(serious_trbl_mkrs)/runs == 0.0:\n",
    "        print('no incorrect RREFS')\n",
    "\n",
    "if __name__ == \"__main__\":\n",
    "    main()\n",
    "    #ipdb.runcall(main)O\n",
    "    "
   ]
  },
  {
   "cell_type": "code",
   "execution_count": null,
   "metadata": {
    "collapsed": true
   },
   "outputs": [],
   "source": []
  }
 ],
 "metadata": {
  "kernelspec": {
   "display_name": "Python 3",
   "language": "python",
   "name": "python3"
  },
  "language_info": {
   "codemirror_mode": {
    "name": "ipython",
    "version": 3
   },
   "file_extension": ".py",
   "mimetype": "text/x-python",
   "name": "python",
   "nbconvert_exporter": "python",
   "pygments_lexer": "ipython3",
   "version": "3.5.1"
  }
 },
 "nbformat": 4,
 "nbformat_minor": 0
}
