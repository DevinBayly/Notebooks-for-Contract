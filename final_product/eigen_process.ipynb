{
 "cells": [
  {
   "cell_type": "markdown",
   "metadata": {},
   "source": [
    "## Everything Eigen!\n",
    "\n",
    "Matrices are the shorthand description of Transformations, but sometimes it isn't easy (possible even) to determine what a particular matrix might do to the vectors that lie in the same space. Fortunately there can be certain vectors that a Transformation only stretches or contracts by a scalar multiple. These are known as Eigen Vectors, and the scalar multiples are the Eigen Values. Another useful application of Eigen stuff is to create diagonalized forms of a matrix enabling exponentiation to be carried out at lightspeed even compared with the calculations necessary for low powers (A^4 A\\*A\\*A\\*A)\n",
    "\n",
    "Once again in order to use the notebook first run the cell below this one with ctrl-enter or shift-enter. "
   ]
  },
  {
   "cell_type": "code",
   "execution_count": 1,
   "metadata": {
    "collapsed": true
   },
   "outputs": [],
   "source": [
    "# %load RREF_real.py\n",
    "from __future__ import division\n",
    "import random as dom\n",
    "from RREF_real import *\n",
    "from sympy import *\n",
    "x, y, z, t = symbols('x y z t')\n",
    "k, m, n = symbols('k m n', integer=True)\n",
    "f, g, h = symbols('f g h', cls=Function)\n",
    "init_printing()\n",
    "import ipdb\n"
   ]
  },
  {
   "cell_type": "markdown",
   "metadata": {},
   "source": [
    "## Parameterizing a matrix\n",
    "\n",
    "This is a process most commonly used when calculating solutions for a system of equations that has been calculated with matrix algebra (probably RREF). This function will recieve a RREF'd matrix and determine whether there are any free variables (variables that can be picked to be any number that simply scales the other variables for the solution). This parametric description is vital to determining whether there are any Eigen Vectors for a particular Eigen Value. "
   ]
  },
  {
   "cell_type": "code",
   "execution_count": 3,
   "metadata": {
    "collapsed": false
   },
   "outputs": [],
   "source": [
    "def parameterize(mtx):\n",
    "    ret_list=[]\n",
    "    for i in range(mtx.shape[0]):\n",
    "        if mtx[i,i] != 1: #i here is just checking for presence of pivot positions\n",
    "            if i != mtx.shape[0]: #checking whether this is the last column on the right\n",
    "                col = -1*mtx[:,i]\n",
    "                col[-1,-1] = 1\n",
    "                ret_list.append(col)\n",
    "            else:\n",
    "                ret_list.append(mtx[:,i])\n",
    "                \n",
    "    return ret_list\n"
   ]
  },
  {
   "cell_type": "markdown",
   "metadata": {},
   "source": [
    "## Finding Eigen Values\n",
    "\n",
    "First off I would like to forewarn you that the below function has the tendency to choke on certain randomly generated Matrices. At this point I have still not ascertained what is causing this, but all you need to do is click interrupt on the dropdown menu under *Kernel.\n",
    "\n",
    "With that out of the way, lets take a look at how these Eigen Values are determined for any matrix. First we must form a characteristic equation from $$det(A - \\lambda I) = 0$$\n",
    "    char_mtx = mtx - eye(mtx.shape[0])*x\n",
    "    \n",
    "which will give a characteristic polynomial that can be solved in terms of $$\\lambda$$.\n",
    "\n",
    "    eqn = char_mtx.det()\n",
    "    eq_fact = eqn.factor()\n",
    "    solve(eq_fact,x)\n",
    "\n",
    "These are potential Eigen Values, but if it is determined that they have Eigen Vectors associated with them, the their claim to their title is no longer under dispute.\n",
    "\n",
    "\n"
   ]
  },
  {
   "cell_type": "code",
   "execution_count": null,
   "metadata": {
    "collapsed": true
   },
   "outputs": [],
   "source": [
    "def calc_eig_val(mtx):\n",
    "    char_mtx = mtx - eye(mtx.shape[0])*x\n",
    "    eqn = char_mtx.det()\n",
    "    print(\"char eq is\")\n",
    "    pprint(eqn)\n",
    "    eq_fact = eqn.factor()\n",
    "    pprint(eq_fact)\n",
    "    return solve(eq_fact,x)"
   ]
  },
  {
   "cell_type": "markdown",
   "metadata": {},
   "source": [
    "## Finding Eigen Vectors\n",
    "\n",
    "Taking the generated Eigen value from the above function we must now tackle another set of equations to determine the Eigen Vectors associated with the Eigen Value.\n",
    "$$A\\bar{v} = \\lambda\\bar{v}$$\n",
    "$$A\\bar{v} - \\lambda\\bar{v} = 0 $$\n",
    "$$(A-\\lambda I)\\bar{v} = 0 $$\n",
    "\n",
    "This is now at the point where we can simply row reduce and determine the Eigen Vector(s) that is\\are associated with the Eigen Value.\n",
    "\n",
    "This time around just go ahead and run the cell below, and then look carefully at the output to discern what is going on from line to line.\n",
    "\n"
   ]
  },
  {
   "cell_type": "code",
   "execution_count": 5,
   "metadata": {
    "collapsed": false
   },
   "outputs": [
    {
     "name": "stdout",
     "output_type": "stream",
     "text": [
      "⎡0  0⎤\n",
      "⎢    ⎥\n",
      "⎣0  6⎦\n",
      "char eq is\n",
      " 2      \n",
      "x  - 6⋅x\n",
      "x⋅(x - 6)\n",
      "evaluating  0\n",
      "entered vec\n",
      "mtx established\n",
      "created augmented matrix\n",
      "reduced\n",
      "⎡⎡0⎤, ⎡-1⎤⎤\n",
      "⎢⎢ ⎥  ⎢  ⎥⎥\n",
      "⎣⎣1⎦  ⎣1 ⎦⎦\n",
      "evaluating  6\n",
      "entered vec\n",
      "mtx established\n",
      "created augmented matrix\n",
      "reduced\n",
      "⎡⎡0⎤⎤\n",
      "⎢⎢ ⎥⎥\n",
      "⎣⎣1⎦⎦\n"
     ]
    }
   ],
   "source": [
    "    \n",
    "def calc_eig_vec(mtx,eig_val):\n",
    "    print('entered vec')\n",
    "    mtx = mtx-eye(mtx.shape[0])*eig_val\n",
    "    print('mtx established')\n",
    "    aug_mtx = mtx.col_insert(mtx.shape[1],zeros(mtx.shape[0],1)) # all the shape business is just retrieving information that is stored about the actual object so this can scale\n",
    "    print('created augmented matrix')\n",
    "    reduced_aug = shortEF(aug_mtx)\n",
    "    print('reduced')\n",
    "    result = parameterize(reduced_aug)\n",
    "    if  zeros(mtx.shape[0],1) in result:\n",
    "        result.remove(zeros(mtx.shape[0],1))\n",
    "    if not result:\n",
    "        print('no eigen vectors for {} eigen value'.format(eig_val))\n",
    "        return None\n",
    "    return result\n",
    "\n",
    "some_mtx = Matrix(2,2,[dom.randrange(1,100) if dom.randrange(1,5) >2 else 0\n",
    "                       for i in range(4)])\n",
    "pprint(some_mtx)\n",
    "vals = calc_eig_val(some_mtx)\n",
    "for val in vals:\n",
    "    print('evaluating ',val)\n",
    "    pprint(calc_eig_vec(some_mtx,val))\n",
    "\n",
    "\n",
    "\n",
    "    \n",
    "    "
   ]
  },
  {
   "cell_type": "markdown",
   "metadata": {
    "collapsed": true
   },
   "source": [
    "## That's all Folks!\n",
    "\n",
    "Thank you for sticking around with the set of notebooks, and thank you Dr. Durst for allowing me to take this project on this semester. \n",
    "\n",
    "Cheers,\n",
    "Devin Bayly"
   ]
  }
 ],
 "metadata": {
  "kernelspec": {
   "display_name": "Python 3",
   "language": "python",
   "name": "python3"
  },
  "language_info": {
   "codemirror_mode": {
    "name": "ipython",
    "version": 3
   },
   "file_extension": ".py",
   "mimetype": "text/x-python",
   "name": "python",
   "nbconvert_exporter": "python",
   "pygments_lexer": "ipython3",
   "version": "3.5.1"
  }
 },
 "nbformat": 4,
 "nbformat_minor": 0
}
