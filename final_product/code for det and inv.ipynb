{
 "cells": [
  {
   "cell_type": "markdown",
   "metadata": {},
   "source": [
    "## Calculating Determinants and Inverses\n",
    "\n",
    "The determinant is a strange little process that I secretly believe is the outcome of someone doodling ontop of a matrix. <img src=https://encrypted-tbn1.gstatic.com/images?q=tbn:ANd9GcQYHjPg2uwDmSquWumWEcZLr2kGwC1EbFmyIb6_FKwEK2IgUqJdlofLuLk>\n",
    "\n",
    "However from a coding perspective it is the perfect little exercise due to it's recursively defined nature. Here you see a 4x4 which still involves calculating the sub-determinants of 3x3 which will involve the determinants of 2x2s ... of course it bottoms out at our 1x1 determinant which is simply that value. <img src=https://encrypted-tbn3.gstatic.com/images?q=tbn:ANd9GcQM3uVmi5L2V1naptYQmFVSAVwjT15wpVQ7_2djbGlnXhK39qMa-A>\n",
    "\n",
    "You might be familiar with the drill of what comes next, just run the cells below one after the other and everthing SHOULD be ok. CTRL-enter to run cell SHIFT-enter to run and select cell below."
   ]
  },
  {
   "cell_type": "code",
   "execution_count": 1,
   "metadata": {
    "collapsed": false
   },
   "outputs": [
    {
     "name": "stdout",
     "output_type": "stream",
     "text": [
      "IPython console for SymPy 0.7.6.1 (Python 3.5.1-64-bit) (ground types: python)\n",
      "\n",
      "These commands were executed:\n",
      ">>> from __future__ import division\n",
      ">>> from sympy import *\n",
      ">>> x, y, z, t = symbols('x y z t')\n",
      ">>> k, m, n = symbols('k m n', integer=True)\n",
      ">>> f, g, h = symbols('f g h', cls=Function)\n",
      ">>> init_printing()\n",
      "\n",
      "Documentation can be found at http://www.sympy.org\n"
     ]
    }
   ],
   "source": [
    "from sympy import init_session\n",
    "init_session()\n",
    "import random,numpy"
   ]
  },
  {
   "cell_type": "markdown",
   "metadata": {},
   "source": [
    "## Getting started\n",
    "\n",
    "Here we just start by randomly generating a 4x4 Matrix. This time around the only zeros that show up here will be by chance so my code will not attempt to take advantage of these in order to speed up the calculation of the determinant."
   ]
  },
  {
   "cell_type": "code",
   "execution_count": 2,
   "metadata": {
    "collapsed": false,
    "scrolled": true
   },
   "outputs": [
    {
     "name": "stdout",
     "output_type": "stream",
     "text": [
      "⎡28  36  56  7 ⎤\n",
      "⎢              ⎥\n",
      "⎢4   96  38  40⎥\n",
      "⎢              ⎥\n",
      "⎢71  76  21  18⎥\n",
      "⎢              ⎥\n",
      "⎣70  69  42  99⎦\n"
     ]
    }
   ],
   "source": [
    "my_mat = Matrix(4,4,[random.randrange(100) for i in range(16)])\n",
    "pprint(my_mat)"
   ]
  },
  {
   "cell_type": "markdown",
   "metadata": {},
   "source": [
    "## Helper function \n",
    "\n",
    "Split mtx does exactly what it sounds like, it takes apart a matrix and sticks the parts back together. This is vital to the process of calculating a determinant because we literally have to pretend that the row and column of our current entry don't exist."
   ]
  },
  {
   "cell_type": "code",
   "execution_count": 3,
   "metadata": {
    "collapsed": false
   },
   "outputs": [
    {
     "data": {
      "image/png": "[encoded data removed]",
      "text/latex": [
       "$$\\left[\\begin{matrix}4 & 38 & 40\\\\71 & 21 & 18\\\\70 & 42 & 99\\end{matrix}\\right]$$"
      ],
      "text/plain": [
       "⎡4   38  40⎤\n",
       "⎢          ⎥\n",
       "⎢71  21  18⎥\n",
       "⎢          ⎥\n",
       "⎣70  42  99⎦"
      ]
     },
     "execution_count": 3,
     "metadata": {},
     "output_type": "execute_result"
    }
   ],
   "source": [
    "def split_mtx(mtx,row,col):\n",
    "    mtx.row_del(row)\n",
    "    mtx.col_del(col)\n",
    "    return mtx\n",
    "\n",
    "split_mtx(my_mat.copy(),0,1)"
   ]
  },
  {
   "cell_type": "markdown",
   "metadata": {},
   "source": [
    "## Magic of recursive coding\n",
    "\n",
    "I am going to do my best to describe what is happening in the recurse function, but inevitably I will fail because even when you have already wrapped your head around what's going on in the recursive definition of a function, looking at someone's code for it is almost but not quite entirely different. \n",
    "\n",
    "All I'm trying to communicate is that if you don't know entirely what's happening below, don't freak out.\n",
    "\n",
    "So we start with the base case of the recursive function: when the matrix is only a single entry, simply return the value of the entry.\n",
    "    if len(mtx) == 1:\n",
    "        print(\"bottom of recurse\")\n",
    "        pprint(mtx)\n",
    "        return mtx[0] \n",
    "\n",
    "Now if we don't satisfy that base case, we will recurse over the entries of the first column. Each column entry will be multiplied by the determinant (recursive call here) of the sub matrix (split and reformed). If the column index value is not even, we tack on a negative sign. The Final note here is that we are storing these values inside of a list that can then just be summed together to give us the eventual determinant value. \n"
   ]
  },
  {
   "cell_type": "code",
   "execution_count": 4,
   "metadata": {
    "collapsed": false,
    "scrolled": true
   },
   "outputs": [
    {
     "name": "stdout",
     "output_type": "stream",
     "text": [
      "stripping\n",
      "⎡61  30  35  0 ⎤\n",
      "⎢              ⎥\n",
      "⎢85  89  82  38⎥\n",
      "⎢              ⎥\n",
      "⎢74  44  52  53⎥\n",
      "⎢              ⎥\n",
      "⎣13  63  18  16⎦\n",
      "stripping\n",
      "⎡89  82  38⎤\n",
      "⎢          ⎥\n",
      "⎢44  52  53⎥\n",
      "⎢          ⎥\n",
      "⎣63  18  16⎦\n",
      "stripping\n",
      "⎡52  53⎤\n",
      "⎢      ⎥\n",
      "⎣18  16⎦\n",
      "bottom of recurse\n",
      "[16]\n",
      "bottom of recurse\n",
      "[18]\n",
      "stripping\n",
      "⎡44  53⎤\n",
      "⎢      ⎥\n",
      "⎣63  16⎦\n",
      "bottom of recurse\n",
      "[16]\n",
      "bottom of recurse\n",
      "[63]\n",
      "stripping\n",
      "⎡44  52⎤\n",
      "⎢      ⎥\n",
      "⎣63  18⎦\n",
      "bottom of recurse\n",
      "[18]\n",
      "bottom of recurse\n",
      "[63]\n",
      "stripping\n",
      "⎡85  82  38⎤\n",
      "⎢          ⎥\n",
      "⎢74  52  53⎥\n",
      "⎢          ⎥\n",
      "⎣13  18  16⎦\n",
      "stripping\n",
      "⎡52  53⎤\n",
      "⎢      ⎥\n",
      "⎣18  16⎦\n",
      "bottom of recurse\n",
      "[16]\n",
      "bottom of recurse\n",
      "[18]\n",
      "stripping\n",
      "⎡74  53⎤\n",
      "⎢      ⎥\n",
      "⎣13  16⎦\n",
      "bottom of recurse\n",
      "[16]\n",
      "bottom of recurse\n",
      "[13]\n",
      "stripping\n",
      "⎡74  52⎤\n",
      "⎢      ⎥\n",
      "⎣13  18⎦\n",
      "bottom of recurse\n",
      "[18]\n",
      "bottom of recurse\n",
      "[13]\n",
      "stripping\n",
      "⎡85  89  38⎤\n",
      "⎢          ⎥\n",
      "⎢74  44  53⎥\n",
      "⎢          ⎥\n",
      "⎣13  63  16⎦\n",
      "stripping\n",
      "⎡44  53⎤\n",
      "⎢      ⎥\n",
      "⎣63  16⎦\n",
      "bottom of recurse\n",
      "[16]\n",
      "bottom of recurse\n",
      "[63]\n",
      "stripping\n",
      "⎡74  53⎤\n",
      "⎢      ⎥\n",
      "⎣13  16⎦\n",
      "bottom of recurse\n",
      "[16]\n",
      "bottom of recurse\n",
      "[13]\n",
      "stripping\n",
      "⎡74  44⎤\n",
      "⎢      ⎥\n",
      "⎣13  63⎦\n",
      "bottom of recurse\n",
      "[63]\n",
      "bottom of recurse\n",
      "[13]\n",
      "stripping\n",
      "⎡85  89  82⎤\n",
      "⎢          ⎥\n",
      "⎢74  44  52⎥\n",
      "⎢          ⎥\n",
      "⎣13  63  18⎦\n",
      "stripping\n",
      "⎡44  52⎤\n",
      "⎢      ⎥\n",
      "⎣63  18⎦\n",
      "bottom of recurse\n",
      "[18]\n",
      "bottom of recurse\n",
      "[63]\n",
      "stripping\n",
      "⎡74  52⎤\n",
      "⎢      ⎥\n",
      "⎣13  18⎦\n",
      "bottom of recurse\n",
      "[18]\n",
      "bottom of recurse\n",
      "[13]\n",
      "stripping\n",
      "⎡74  44⎤\n",
      "⎢      ⎥\n",
      "⎣13  63⎦\n",
      "bottom of recurse\n",
      "[63]\n",
      "bottom of recurse\n",
      "[13]\n",
      "3599630\n",
      "3599630\n"
     ]
    }
   ],
   "source": [
    "def recurse_det(mtx):\n",
    "    if len(mtx) == 1:\n",
    "        print(\"bottom of recurse\")\n",
    "        pprint(mtx)\n",
    "        return mtx[0] \n",
    "    else:\n",
    "        pprint(mtx)\n",
    "        return sum([mtx[0,j]*recurse_det(split_mtx(mtx.copy(),0,j)) if j%2 == 0 else\n",
    "                    -mtx[0,j]*recurse_det(split_mtx(mtx.copy(),0,j))\n",
    "                    for j in range(mtx.cols)])\n",
    "    \n",
    "print(recurse_det(my_mat))\n",
    "print(my_mat.det())\n"
   ]
  },
  {
   "cell_type": "markdown",
   "metadata": {},
   "source": [
    "if you are interested you might decide to try to see how this code performs on larger square matrices. One of the drawbacks of recursion in  general is that it begins to incur serious performance issues because the scale of the calculations it is performing grows exponentially.\n",
    "\n",
    "Fortunately there are other ways to calculate a determinant.\n"
   ]
  },
  {
   "cell_type": "markdown",
   "metadata": {},
   "source": [
    "## The RREF answer to life\n",
    "\n",
    "I say this in jest because it seems that RREF can be used in Linear Algebra for just about anything. So, not surprisingly, we can use it to calculate the determinant of a matrix as it goes through the steps of the Algorithm.\n",
    "\n",
    "If you haven't already done so, please refer to the RREF and Elementary Matrix notebooks because I will be drawing upon information shared there.\n",
    "\n",
    "I will be using a pseudo determinant that has its starting value set to one.\n",
    "\n",
    "Several of the row operations change this thing we are considering the pseudo_determinant of a matrix: the swapping of two rows multiplies the pseudo_determinant by -1, and the multiplication of a row by some scalar multiplies the pseudo_determinant by that same value.\n",
    "\n",
    "The another piece of the puzzle here is that an invertible matrix in RREF will have ones along a diagonal from the top left to the bottom right (see below for details) and the pseudo_determinant of such a matrix is simply the multiplication of the entries in this diagonal (conveniently equals 1). Finally we take the inverse of our pseudo_det and it should be equal to the recursively derived value from above.\n",
    "\n",
    "So, trust me that the only changes that have been made to the RREF functions below are to allow for the tracking of changes that have happened to the pseudo_determinant. Running the cell below will start to spit out RREF'd randomly generated matrices, but with the added information relating to their determinants. Feel free to use **CTRL-C** to end the barrage of calculations when you are convinced."
   ]
  },
  {
   "cell_type": "code",
   "execution_count": null,
   "metadata": {
    "collapsed": true
   },
   "outputs": [],
   "source": [
    "# %load \"./RREF_det.py\"\n",
    "from __future__ import division\n",
    "import random\n",
    "from sympy import *\n",
    "x, y, z, t = symbols('x y z t')\n",
    "k, m, n = symbols('k m n', integer=True)\n",
    "f, g, h = symbols('f g h', cls=Function)\n",
    "init_printing()\n",
    "import ipdb\n",
    "\n",
    "pseudo_det = 1\n",
    "def target_swap(mtx,row,lst):\n",
    "    ret_mtx = mtx.copy()\n",
    "    rep_ind = find_nonzero_ind(lst,row)\n",
    "    if rep_ind:\n",
    "        rep_row = ret_mtx[rep_ind,:]\n",
    "        ret_mtx[rep_ind,:] = ret_mtx[row,:]\n",
    "        ret_mtx[row,:] =rep_row\n",
    "        return ret_mtx\n",
    "    return False\n",
    "\n",
    "def find_nonzero_ind(lst,row,backwards=False):\n",
    "    if backwards:\n",
    "        lst_to_bool = [x == 0 if i < row else True for i,x in enumerate(lst)]\n",
    "    else:\n",
    "        lst_to_bool = [x == 0 if i > row else True for i,x in enumerate(lst)]\n",
    "    if False not in lst_to_bool:\n",
    "        return False\n",
    "    return lst_to_bool.index(False)\n",
    "\n",
    "def add_mult_row(mtx,piv_row,other):\n",
    "    return solve(piv_row*x+ other,x)[0]\n",
    "\n",
    "def grab_diag(mtx):\n",
    "    d = 1\n",
    "    for i in range(mtx.rows):\n",
    "        d*=mtx[i,i]\n",
    "    return d\n",
    "def give_pseudo_det():\n",
    "    global pseudo_det\n",
    "    if pseudo_det == 0:\n",
    "        return 0\n",
    "    else:\n",
    "        return 1/pseudo_det\n",
    "\n",
    "def shortEF(mtx):\n",
    "    global pseudo_det\n",
    "    pivots = []\n",
    "    cop = mtx.copy()\n",
    "    row,col = 0,0\n",
    "    try_cap = cop.rows + 30\n",
    "    while row < cop.rows and col < cop.cols: #took off -1 from cop.rows mighthave broken stuff\n",
    "        col_list = list(cop[:,col])\n",
    "        if try_cap < 0:\n",
    "            return (row,col)\n",
    "        if col_list.count(0) == cop.rows or col_list[row:].count(0) > cop.rows -1 -row:\n",
    "            col +=1\n",
    "            continue\n",
    "        if cop[row,col] == 0 :\n",
    "                #cop = rolling_rep(cop,row)\n",
    "                cop = target_swap(cop,row,col_list)\n",
    "                try_cap -=1\n",
    "                pseudo_det *= -1\n",
    "                continue\n",
    "        if col_list[row:].count(0) == cop.rows -1 -row:\n",
    "            pivots.append((row,col))\n",
    "            col +=1\n",
    "            row +=1\n",
    "            continue\n",
    "        else:\n",
    "            \n",
    "            rep_ind = find_nonzero_ind(col_list,row) #makes sure to not include the potential pivot row in the search but keeps the indexing constant with mtx\n",
    "            multiple_factor = add_mult_row(cop,cop[row,col],cop[rep_ind,col])\n",
    "            cop[rep_ind,:] += cop[row,:]*multiple_factor\n",
    "    reduce_row(cop,pivots)\n",
    "    return cop\n",
    "\n",
    "def reduce_row(mtx,pivot_lst):\n",
    "    pivot_lst.reverse()\n",
    "    for row,col in pivot_lst:\n",
    "        global pseudo_det\n",
    "        pseudo_det /= mtx[row,col]\n",
    "        mtx[row,:] = mtx[row,:]/mtx[row,col]\n",
    "        col_list = list(mtx[:,col])\n",
    "        while col_list.count(0) < mtx.rows -1:\n",
    "            rep_ind = find_nonzero_ind(col_list,row,True) #makes sure to not include the potential pivot row in the search but keeps the indexing constant with mtx\n",
    "            multiple_factor = add_mult_row(mtx,mtx[row,col],mtx[rep_ind,col])\n",
    "            mtx[rep_ind,:] += mtx[row,:]*multiple_factor\n",
    "            col_list = list(mtx[:,col])\n",
    "    pseudo_det *= grab_diag(mtx)\n",
    "\n",
    "    \n",
    "\n",
    "def main ():\n",
    "    global pseudo_det\n",
    "    serious_trbl_mkrs = []\n",
    "    runs = 200\n",
    "    for i in range(runs):\n",
    "        pseudo_det = 1\n",
    "        trbl_mkr = Matrix(4,4,[random.randrange(1,100) if random.randrange(1,5) < 3 else 0 for num in range(16)])\n",
    "        if shortEF(trbl_mkr) != trbl_mkr.rref()[0]:\n",
    "            serious_trbl_mkrs.append(trbl_mkr)\n",
    "        print(give_pseudo_det(),trbl_mkr.det())\n",
    "    pprint(serious_trbl_mkrs)\n",
    "    if len(serious_trbl_mkrs)/runs == 0.0:\n",
    "        print('no incorrect RREFS')\n",
    "\n",
    "if __name__ == \"__main__\":\n",
    "    #main()\n",
    "    ipdb.runcall(main)\n",
    "    \n"
   ]
  },
  {
   "cell_type": "markdown",
   "metadata": {},
   "source": [
    "## Invertibility\n",
    "\n",
    "The final topic of this notebook is Invertibility. Some matrices have it, others want it (maybe?), and this is how to tell them apart. Like I explained above, RREF is your best shot for understanding whether you have a real invertible matrix. Trusting that you have actually consulted the Elementary Matrix notebook we start by tacking an identity matrix of the same number of rows onto the right side of a matrix we are interested in. \n",
    "\n",
    "From here we simply pass the whole thing through the RREF Algorithm, and by the end we will split the double wide matrix to find that the matrix on the right (originally the identity) has become a nasty looking set of fractions. This Matrix is a special matrix we often denote with the -1 power indicating that if it is multiplied with the starting matrix we will get back the identity matrix. This is similar to saying $$14*14^{-1} = 1$$\n",
    "$$mtx*mtx^{-1} = I $$\n",
    "\n"
   ]
  },
  {
   "cell_type": "code",
   "execution_count": 9,
   "metadata": {
    "collapsed": false
   },
   "outputs": [],
   "source": [
    "my_mat = Matrix(4,4,[random.randrange(100) if random.randrange(5) > 1 else 0 for i in range(16)])\n",
    "\n",
    "\n",
    "def add_to_mtx(original,addition):\n",
    "    for col in range(addition.shape[1]):\n",
    "        original = original.col_insert(original.cols,addition[:,col])\n",
    "    return original\n",
    "\n",
    "\n",
    "def calculate_inverse(mtx):\n",
    "    row,col = mtx.shape\n",
    "    if row != col:\n",
    "        print('not invertible')\n",
    "        return mtx\n",
    "    else:\n",
    "        extended_mtx = add_to_mtx(mtx,eye(mtx.shape[0]))\n",
    "        inv = RREF_real.shortEF(extended_mtx)[:,mtx.shape[1]:]\n",
    "        return inv\n",
    "inv = calculate_inverse(my_mat)"
   ]
  },
  {
   "cell_type": "markdown",
   "metadata": {},
   "source": [
    "And behold the fruits of our (my) labor!"
   ]
  },
  {
   "cell_type": "code",
   "execution_count": 10,
   "metadata": {
    "collapsed": false,
    "scrolled": true
   },
   "outputs": [
    {
     "name": "stdout",
     "output_type": "stream",
     "text": [
      "⎡42  0   83  0 ⎤\n",
      "⎢              ⎥\n",
      "⎢52  0   0   67⎥\n",
      "⎢              ⎥\n",
      "⎢21  95  6   18⎥\n",
      "⎢              ⎥\n",
      "⎣82  50  34  50⎦\n",
      "⎡-19631   -31955   -27805    105659 ⎤\n",
      "⎢───────  ───────  ───────  ─────── ⎥\n",
      "⎢1261952  1261952  1261952  2523904 ⎥\n",
      "⎢                                   ⎥\n",
      "⎢ -135    -11127    72263   -22209  ⎥\n",
      "⎢───────  ───────  ───────  ────────⎥\n",
      "⎢1261952  6309760  6309760  12619520⎥\n",
      "⎢                                   ⎥\n",
      "⎢12569     8085     7035    -26733  ⎥\n",
      "⎢──────   ──────   ──────   ─────── ⎥\n",
      "⎢630976   630976   630976   1261952 ⎥\n",
      "⎢                                   ⎥\n",
      "⎢ 3809    10909     5395    -20501  ⎥\n",
      "⎢──────   ──────   ──────   ─────── ⎥\n",
      "⎣315488   315488   315488    630976 ⎦\n",
      "⎡1  0  0  0⎤\n",
      "⎢          ⎥\n",
      "⎢0  1  0  0⎥\n",
      "⎢          ⎥\n",
      "⎢0  0  1  0⎥\n",
      "⎢          ⎥\n",
      "⎣0  0  0  1⎦\n"
     ]
    }
   ],
   "source": [
    "pprint(my_mat)\n",
    "pprint(inv)\n",
    "pprint(my_mat*inv)"
   ]
  }
 ],
 "metadata": {
  "kernelspec": {
   "display_name": "Python 3",
   "language": "python",
   "name": "python3"
  },
  "language_info": {
   "codemirror_mode": {
    "name": "ipython",
    "version": 3
   },
   "file_extension": ".py",
   "mimetype": "text/x-python",
   "name": "python",
   "nbconvert_exporter": "python",
   "pygments_lexer": "ipython3",
   "version": "3.5.1"
  }
 },
 "nbformat": 4,
 "nbformat_minor": 0
}
